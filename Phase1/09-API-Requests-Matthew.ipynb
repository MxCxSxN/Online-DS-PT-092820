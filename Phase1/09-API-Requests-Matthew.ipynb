{
 "cells": [
  {
   "cell_type": "markdown",
   "metadata": {
    "slideshow": {
     "slide_type": "slide"
    }
   },
   "source": [
    "# APIs - Gathering Data Using Requests"
   ]
  },
  {
   "cell_type": "markdown",
   "metadata": {
    "slideshow": {
     "slide_type": "slide"
    }
   },
   "source": [
    "## The Many Use Cases For APIs\n",
    "\n",
    "APIs can be used for many things - much more than just retrieving information. Twilio has an API that allows you to write a script to send text messages to people. GitHub has an API for creating new repositories. Many services have APIs allowing computers to automate tasks that a person might otherwise have to do through a website - whether uploading a photo to Flickr, searching for a company name in a state database, or getting a list of garbage collection times for a municipality."
   ]
  },
  {
   "cell_type": "markdown",
   "metadata": {
    "slideshow": {
     "slide_type": "slide"
    }
   },
   "source": [
    "### Learning Goals:\n",
    "\n",
    "  - Identify and discuss APIs\n",
    "  - Discuss and explain different request (GET, POST, PUT, DELETE) and CRUD operations\n",
    "  - Explore the attributes of a response object\n",
    "  - Check the status of a request and interpret status codes\n",
    "  - Access data from an API using the requests library\n",
    "  - Create a pandas dataframe from the data returned from an API and visualize the data\n"
   ]
  },
  {
   "cell_type": "markdown",
   "metadata": {
    "slideshow": {
     "slide_type": "slide"
    }
   },
   "source": [
    "## Limitations of APIs\n",
    "\n",
    "When working with APIs, there are some limitations you have to be aware of - especially relating to scope and scale.\n",
    "\n",
    "* **Scope** - Just because a company has an API and has information, it doesn't mean you can get all of the information you might want through their API\n",
    "\n",
    "* **Scale** - Some APIs are provided for free as a public service. Others you have to pay for, or allow you to perform activities (like sending a text message) that you pay for. Make sure that you know what the rate limits are and that your use case isn't going to need more API calls than you will be able to make.\n",
    "\n",
    "What else is good to know? **Every API is different!** There are some standards out there in terms of documentation and usage... but it's like the wild west - rapid expansion with few rules.\n",
    "\n",
    "With all that out of the way - Let's take a look at the `requests` library and its uses."
   ]
  },
  {
   "cell_type": "markdown",
   "metadata": {
    "slideshow": {
     "slide_type": "slide"
    }
   },
   "source": [
    "### \"Requests is the only Non-GMO HTTP library for Python, safe for human consumption.\"\n",
    "\n",
    "> \"Requests allows you to send organic, grass-fed HTTP/1.1 requests, without the need for manual labor.\"\n",
    "\n",
    "Straight from the `requests` [documentation](https://pypi.org/project/requests/)"
   ]
  },
  {
   "cell_type": "markdown",
   "metadata": {},
   "source": [
    "### Types of Requests\n",
    "\n",
    "We will mostly use GET requests in order to get data, but there are other options.\n",
    "\n",
    "![CRUD image from IntelliPaat](https://intellipaat.com/mediaFiles/2015/08/MongoDB-CRUD-operations.jpg)\n",
    "\n",
    "That's right - CRUD summarizes the kinds of requests you can make with most APIs. \n",
    "\n",
    "Let's say you are looking at an API for a car rental company like Hertz or Zipcar - the following different requests could generate these different responses:\n",
    "\n",
    "| Request               | Result                               | In CRUD Terms |\n",
    "| --------------------- | ------------------------------------ | ------------- |\n",
    "| GET /stores/          | User sees the list of stores         | Read          |\n",
    "| GET /rentals/         | User sees the history of car rentals | Read          |\n",
    "| POST /rentals/        | User rents a car                     | Create        |\n",
    "| PUT /rentals/{id}/    | User changes destination store       | Update        |\n",
    "| DELETE /rentals/{id}/ | User cancels the active car rental   | Delete        |\n"
   ]
  },
  {
   "cell_type": "markdown",
   "metadata": {},
   "source": [
    "### Let's get started!"
   ]
  },
  {
   "cell_type": "code",
   "execution_count": 1,
   "metadata": {
    "slideshow": {
     "slide_type": "slide"
    }
   },
   "outputs": [],
   "source": [
    "import requests"
   ]
  },
  {
   "cell_type": "code",
   "execution_count": 2,
   "metadata": {},
   "outputs": [],
   "source": [
    "# Don't already have the library? Uncomment the below code and install it locally\n",
    "#!pip install requests\n"
   ]
  },
  {
   "cell_type": "code",
   "execution_count": 3,
   "metadata": {},
   "outputs": [
    {
     "data": {
      "text/plain": [
       "requests.models.Response"
      ]
     },
     "execution_count": 3,
     "metadata": {},
     "output_type": "execute_result"
    }
   ],
   "source": [
    "# Create a GET request, then check the type of object\n",
    "\n",
    "r = requests.get('https://api.github.com/events') \n",
    "type(r)"
   ]
  },
  {
   "cell_type": "code",
   "execution_count": 4,
   "metadata": {
    "scrolled": true
   },
   "outputs": [
    {
     "data": {
      "text/plain": [
       "'[{\"id\":\"14054705986\",\"type\":\"CreateEvent\",\"actor\":{\"id\":45428746,\"login\":\"hpawa\",\"display_login\":\"hpawa\",\"gravatar_id\":\"\",\"url\":\"https://api.github.com/users/hpawa\",\"avatar_url\":\"https://avatars.githubusercontent.com/u/45428746?\"},\"repo\":{\"id\":309445333,\"name\":\"hpawa/test_cases\",\"url\":\"https://api.github.com/repos/hpawa/test_cases\"},\"payload\":{\"ref\":\"master\",\"ref_type\":\"branch\",\"master_branch\":\"master\",\"description\":null,\"pusher_type\":\"user\"},\"public\":true,\"created_at\":\"2020-11-02T17:29:56Z\"},{\"id\":\"14054705968\",\"type\":\"PushEvent\",\"actor\":{\"id\":71101728,\"login\":\"SeveralCups\",\"display_login\":\"SeveralCups\",\"gravatar_id\":\"\",\"url\":\"https://api.github.com/users/SeveralCups\",\"avatar_url\":\"https://avatars.githubusercontent.com/u/71101728?\"},\"repo\":{\"id\":309442947,\"name\":\"SeveralCups/decidice\",\"url\":\"https://api.github.com/repos/SeveralCups/decidice\"},\"payload\":{\"push_id\":5961126526,\"size\":1,\"distinct_size\":1,\"ref\":\"refs/heads/main\",\"head\":\"b363d5dbee2218258851960d44ad7eff395a49cc\",\"before\":\"82ef1b650fcc8ff0c1e7ef3bddb23b06445c8703\",\"commits\":[{\"sha\":\"b363d5dbee2218258851960d44ad7eff395a49cc\",\"author\":{\"email\":\"71101728+SeveralCups@users.noreply.github.com\",\"name\":\"Karl\"},\"message\":\"Delete _config.yml\",\"distinct\":true,\"url\":\"https://api.github.com/repos/SeveralCups/decidice/commits/b363d5dbee2218258851960d44ad7eff395a49cc\"}]},\"public\":true,\"created_at\":\"2020-11-02T17:29:56Z\"},{\"id\":\"14054705966\",\"type\":\"PushEvent\",\"actor\":{\"id\":55378138,\"login\":\"madsstorgaardnielsen\",\"display_login\":\"madsstorgaardnielsen\",\"gravatar_id\":\"\",\"url\":\"https://api.github.com/users/madsstorgaardnielsen\",\"avatar_url\":\"https://avatars.githubusercontent.com/u/55378138?\"},\"repo\":{\"id\":307373871,\"name\":\"madsstorgaardnielsen/s180076Galgeleg2_v2\",\"url\":\"https://api.github.com/repos/madsstorgaardnielsen/s180076Galgeleg2_v2\"},\"payload\":{\"push_id\":5961126524,\"size\":1,\"distinct_size\":1,\"ref\":\"refs/heads/master\",\"head\":\"32204d4e5e236d8c0f0440258fc3de4c12de040f\",\"before\":\"f5e901acafab007136584a391d2050340ab1637d\",\"commits\":[{\"sha\":\"32204d4e5e236d8c0f0440258fc3de4c12de040f\",\"author\":{\"email\":\"s180076@win.dtu.dk\",\"name\":\"Mads Storgaard-Nielsen\"},\"message\":\"Rewrote everything, small issues remain\\\\nAdded some TODOS\",\"distinct\":true,\"url\":\"https://api.github.com/repos/madsstorgaardnielsen/s180076Galgeleg2_v2/commits/32204d4e5e236d8c0f0440258fc3de4c12de040f\"}]},\"public\":true,\"created_at\":\"2020-11-02T17:29:56Z\"},{\"id\":\"14054705964\",\"type\":\"PushEvent\",\"actor\":{\"id\":46708668,\"login\":\"Raksix\",\"display_login\":\"Raksix\",\"gravatar_id\":\"\",\"url\":\"https://api.github.com/users/Raksix\",\"avatar_url\":\"https://avatars.githubusercontent.com/u/46708668?\"},\"repo\":{\"id\":281370734,\"name\":\"CodAre-Development/discord-bot-login-panel\",\"url\":\"https://api.github.com/repos/CodAre-Development/discord-bot-login-panel\"},\"payload\":{\"push_id\":5961126522,\"size\":1,\"distinct_size\":1,\"ref\":\"refs/heads/master\",\"head\":\"1262c59b68b743dd336e983d71b98ca9e15e1678\",\"before\":\"c3a42c28bd9c5e954d543e5d034e1c6aacedecfc\",\"commits\":[{\"sha\":\"1262c59b68b743dd336e983d71b98ca9e15e1678\",\"author\":{\"email\":\"46708668+Raksix@users.noreply.github.com\",\"name\":\"Raksix\"},\"message\":\"Delete style.css\",\"distinct\":true,\"url\":\"https://api.github.com/repos/CodAre-Development/discord-bot-login-panel/commits/1262c59b68b743dd336e983d71b98ca9e15e1678\"}]},\"public\":true,\"created_at\":\"2020-11-02T17:29:56Z\",\"org\":{\"id\":68563229,\"login\":\"CodAre-Development\",\"gravatar_id\":\"\",\"url\":\"https://api.github.com/orgs/CodAre-Development\",\"avatar_url\":\"https://avatars.githubusercontent.com/u/68563229?\"}},{\"id\":\"14054705963\",\"type\":\"PushEvent\",\"actor\":{\"id\":60600617,\"login\":\"novaardiansyah1\",\"display_login\":\"novaardiansyah1\",\"gravatar_id\":\"\",\"url\":\"https://api.github.com/users/novaardiansyah1\",\"avatar_url\":\"https://avatars.githubusercontent.com/u/60600617?\"},\"repo\":{\"id\":309211649,\"name\":\"novaardiansyah1/novaardiansyah1\",\"url\":\"https://api.github.com/repos/novaardiansyah1/novaardiansyah1\"},\"payload\":{\"push_id\":5961126525,\"size\":1,\"distinct_size\":1,\"ref\":\"refs/heads/master\",\"head\":\"d91ef3dc4b31cb702652cbe0a34f2b693ebc5de4\",\"before\":\"ebf930f00095833edfeb92fea0ea23730ff0599a\",\"commits\":[{\"sha\":\"d91ef3dc4b31cb702652cbe0a34f2b693ebc5de4\",\"author\":{\"email\":\"60600617+novaardiansyah1@users.noreply.github.com\",\"name\":\"Nova Ardiansyah\"},\"message\":\"Update README.md\",\"distinct\":true,\"url\":\"https://api.github.com/repos/novaardiansyah1/novaardiansyah1/commits/d91ef3dc4b31cb702652cbe0a34f2b693ebc5de4\"}]},\"public\":true,\"created_at\":\"2020-11-02T17:29:56Z\"},{\"id\":\"14054705941\",\"type\":\"PushEvent\",\"actor\":{\"id\":29068156,\"login\":\"jbarton311\",\"display_login\":\"jbarton311\",\"gravatar_id\":\"\",\"url\":\"https://api.github.com/users/jbarton311\",\"avatar_url\":\"https://avatars.githubusercontent.com/u/29068156?\"},\"repo\":{\"id\":247333658,\"name\":\"jbarton311/coronavirus-analysis\",\"url\":\"https://api.github.com/repos/jbarton311/coronavirus-analysis\"},\"payload\":{\"push_id\":5961126509,\"size\":1,\"distinct_size\":1,\"ref\":\"refs/heads/master\",\"head\":\"a844b79ec72e0ce37c4cbaf5e6e78b641aca8331\",\"before\":\"4fd63dd1343b21cd55a8423e04c6e4b9ca79013d\",\"commits\":[{\"sha\":\"a844b79ec72e0ce37c4cbaf5e6e78b641aca8331\",\"author\":{\"email\":\"vtbandofhorses@gmail.com\",\"name\":\"Jeff B\"},\"message\":\"Adding output data for 2020-11-02\",\"distinct\":true,\"url\":\"https://api.github.com/repos/jbarton311/coronavirus-analysis/commits/a844b79ec72e0ce37c4cbaf5e6e78b641aca8331\"}]},\"public\":true,\"created_at\":\"2020-11-02T17:29:56Z\"},{\"id\":\"14054705948\",\"type\":\"PullRequestEvent\",\"actor\":{\"id\":45614293,\"login\":\"quockhanhng\",\"display_login\":\"quockhanhng\",\"gravatar_id\":\"\",\"url\":\"https://api.github.com/users/quockhanhng\",\"avatar_url\":\"https://avatars.githubusercontent.com/u/45614293?\"},\"repo\":{\"id\":309436476,\"name\":\"quockhanhng/Agile-Tutorial\",\"url\":\"https://api.github.com/repos/quockhanhng/Agile-Tutorial\"},\"payload\":{\"action\":\"closed\",\"number\":12,\"pull_request\":{\"url\":\"https://api.github.com/repos/quockhanhng/Agile-Tutorial/pulls/12\",\"id\":514212241,\"node_id\":\"MDExOlB1bGxSZXF1ZXN0NTE0MjEyMjQx\",\"html_url\":\"https://github.com/quockhanhng/Agile-Tutorial/pull/12\",\"diff_url\":\"https://github.com/quockhanhng/Agile-Tutorial/pull/12.diff\",\"patch_url\":\"https://github.com/quockhanhng/Agile-Tutorial/pull/12.patch\",\"issue_url\":\"https://api.github.com/repos/quockhanhng/Agile-Tutorial/issues/12\",\"number\":12,\"state\":\"closed\",\"locked\":false,\"title\":\"Api Login, Register #2\",\"user\":{\"login\":\"quockhanhng\",\"id\":45614293,\"node_id\":\"MDQ6VXNlcjQ1NjE0Mjkz\",\"avatar_url\":\"https://avatars2.githubusercontent.com/u/45614293?v=4\",\"gravatar_id\":\"\",\"url\":\"https://api.github.com/users/quockhanhng\",\"html_url\":\"https://github.com/quockhanhng\",\"followers_url\":\"https://api.github.com/users/quockhanhng/followers\",\"following_url\":\"https://api.github.com/users/quockhanhng/following{/other_user}\",\"gists_url\":\"https://api.github.com/users/quockhanhng/gists{/gist_id}\",\"starred_url\":\"https://api.github.com/users/quockhanhng/starred{/owner}{/repo}\",\"subscriptions_url\":\"https://api.github.com/users/quockhanhng/subscriptions\",\"organizations_url\":\"https://api.github.com/users/quockhanhng/orgs\",\"repos_url\":\"https://api.github.com/users/quockhanhng/repos\",\"events_url\":\"https://api.github.com/users/quockhanhng/events{/privacy}\",\"received_events_url\":\"https://api.github.com/users/quockhanhng/received_events\",\"type\":\"User\",\"site_admin\":false},\"body\":\"\",\"created_at\":\"2020-11-02T17:28:30Z\",\"updated_at\":\"2020-11-02T17:29:56Z\",\"closed_at\":\"2020-11-02T17:29:56Z\",\"merged_at\":\"2020-11-02T17:29:56Z\",\"merge_commit_sha\":\"92d2ae015b9740e04e6ad462a8dcefbc38bf0b55\",\"assignee\":null,\"assignees\":[],\"requested_reviewers\":[],\"requested_teams\":[],\"labels\":[],\"milestone\":null,\"draft\":false,\"commits_url\":\"https://api.github.com/repos/quockhanhng/Agile-Tutorial/pulls/12/commits\",\"review_comments_url\":\"https://api.github.com/repos/quockhanhng/Agile-Tutorial/pulls/12/comments\",\"review_comment_url\":\"https://api.github.com/repos/quockhanhng/Agile-Tutorial/pulls/comments{/number}\",\"comments_url\":\"https://api.github.com/repos/quockhanhng/Agile-Tutorial/issues/12/comments\",\"statuses_url\":\"https://api.github.com/repos/quockhanhng/Agile-Tutorial/statuses/66e0b1ddf2bfc5873f3010d806c158bc1c9d9250\",\"head\":{\"label\":\"quockhanhng:api_login_register\",\"ref\":\"api_login_register\",\"sha\":\"66e0b1ddf2bfc5873f3010d806c158bc1c9d9250\",\"user\":{\"login\":\"quockhanhng\",\"id\":45614293,\"node_id\":\"MDQ6VXNlcjQ1NjE0Mjkz\",\"avatar_url\":\"https://avatars2.githubusercontent.com/u/45614293?v=4\",\"gravatar_id\":\"\",\"url\":\"https://api.github.com/users/quockhanhng\",\"html_url\":\"https://github.com/quockhanhng\",\"followers_url\":\"https://api.github.com/users/quockhanhng/followers\",\"following_url\":\"https://api.github.com/users/quockhanhng/following{/other_user}\",\"gists_url\":\"https://api.github.com/users/quockhanhng/gists{/gist_id}\",\"starred_url\":\"https://api.github.com/users/quockhanhng/starred{/owner}{/repo}\",\"subscriptions_url\":\"https://api.github.com/users/quockhanhng/subscriptions\",\"organizations_url\":\"https://api.github.com/users/quockhanhng/orgs\",\"repos_url\":\"https://api.github.com/users/quockhanhng/repos\",\"events_url\":\"https://api.github.com/users/quockhanhng/events{/privacy}\",\"received_events_url\":\"https://api.github.com/users/quockhanhng/received_events\",\"type\":\"User\",\"site_admin\":false},\"repo\":{\"id\":309436476,\"node_id\":\"MDEwOlJlcG9zaXRvcnkzMDk0MzY0NzY=\",\"name\":\"Agile-Tutorial\",\"full_name\":\"quockhanhng/Agile-Tutorial\",\"private\":false,\"owner\":{\"login\":\"quockhanhng\",\"id\":45614293,\"node_id\":\"MDQ6VXNlcjQ1NjE0Mjkz\",\"avatar_url\":\"https://avatars2.githubusercontent.com/u/45614293?v=4\",\"gravatar_id\":\"\",\"url\":\"https://api.github.com/users/quockhanhng\",\"html_url\":\"https://github.com/quockhanhng\",\"followers_url\":\"https://api.github.com/users/quockhanhng/followers\",\"following_url\":\"https://api.github.com/users/quockhanhng/following{/other_user}\",\"gists_url\":\"https://api.github.com/users/quockhanhng/gists{/gist_id}\",\"starred_url\":\"https://api.github.com/users/quockhanhng/starred{/owner}{/repo}\",\"subscriptions_url\":\"https://api.github.com/users/quockhanhng/subscriptions\",\"organizations_url\":\"https://api.github.com/users/quockhanhng/orgs\",\"repos_url\":\"https://api.github.com/users/quockhanhng/repos\",\"events_url\":\"https://api.github.com/users/quockhanhng/events{/privacy}\",\"received_events_url\":\"https://api.github.com/users/quockhanhng/received_events\",\"type\":\"User\",\"site_admin\":false},\"html_url\":\"https://github.com/quockhanhng/Agile-Tutorial\",\"description\":\"SE04 - Agile tutorial\",\"fork\":false,\"url\":\"https://api.github.com/repos/quockhanhng/Agile-Tutorial\",\"forks_url\":\"https://api.github.com/repos/quockhanhng/Agile-Tutorial/forks\",\"keys_url\":\"https://api.github.com/repos/quockhanhng/Agile-Tutorial/keys{/key_id}\",\"collaborators_url\":\"https://api.github.com/repos/quockhanhng/Agile-Tutorial/collaborators{/collaborator}\",\"teams_url\":\"https://api.github.com/repos/quockhanhng/Agile-Tutorial/teams\",\"hooks_url\":\"https://api.github.com/repos/quockhanhng/Agile-Tutorial/hooks\",\"issue_events_url\":\"https://api.github.com/repos/quockhanhng/Agile-Tutorial/issues/events{/number}\",\"events_url\":\"https://api.github.com/repos/quockhanhng/Agile-Tutorial/events\",\"assignees_url\":\"https://api.github.com/repos/quockhanhng/Agile-Tutorial/assignees{/user}\",\"branches_url\":\"https://api.github.com/repos/quockhanhng/Agile-Tutorial/branches{/branch}\",\"tags_url\":\"https://api.github.com/repos/quockhanhng/Agile-Tutorial/tags\",\"blobs_url\":\"https://api.github.com/repos/quockhanhng/Agile-Tutorial/git/blobs{/sha}\",\"git_tags_url\":\"https://api.github.com/repos/quockhanhng/Agile-Tutorial/git/tags{/sha}\",\"git_refs_url\":\"https://api.github.com/repos/quockhanhng/Agile-Tutorial/git/refs{/sha}\",\"trees_url\":\"https://api.github.com/repos/quockhanhng/Agile-Tutorial/git/trees{/sha}\",\"statuses_url\":\"https://api.github.com/repos/quockhanhng/Agile-Tutorial/statuses/{sha}\",\"languages_url\":\"https://api.github.com/repos/quockhanhng/Agile-Tutorial/languages\",\"stargazers_url\":\"https://api.github.com/repos/quockhanhng/Agile-Tutorial/stargazers\",\"contributors_url\":\"https://api.github.com/repos/quockhanhng/Agile-Tutorial/contributors\",\"subscribers_url\":\"https://api.github.com/repos/quockhanhng/Agile-Tutorial/subscribers\",\"subscription_url\":\"https://api.github.com/repos/quockhanhng/Agile-Tutorial/subscription\",\"commits_url\":\"https://api.github.com/repos/quockhanhng/Agile-Tutorial/commits{/sha}\",\"git_commits_url\":\"https://api.github.com/repos/quockhanhng/Agile-Tutorial/git/commits{/sha}\",\"comments_url\":\"https://api.github.com/repos/quockhanhng/Agile-Tutorial/comments{/number}\",\"issue_comment_url\":\"https://api.github.com/repos/quockhanhng/Agile-Tutorial/issues/comments{/number}\",\"contents_url\":\"https://api.github.com/repos/quockhanhng/Agile-Tutorial/contents/{+path}\",\"compare_url\":\"https://api.github.com/repos/quockhanhng/Agile-Tutorial/compare/{base}...{head}\",\"merges_url\":\"https://api.github.com/repos/quockhanhng/Agile-Tutorial/merges\",\"archive_url\":\"https://api.github.com/repos/quockhanhng/Agile-Tutorial/{archive_format}{/ref}\",\"downloads_url\":\"https://api.github.com/repos/quockhanhng/Agile-Tutorial/downloads\",\"issues_url\":\"https://api.github.com/repos/quockhanhng/Agile-Tutorial/issues{/number}\",\"pulls_url\":\"https://api.github.com/repos/quockhanhng/Agile-Tutorial/pulls{/number}\",\"milestones_url\":\"https://api.github.com/repos/quockhanhng/Agile-Tutorial/milestones{/number}\",\"notifications_url\":\"https://api.github.com/repos/quockhanhng/Agile-Tutorial/notifications{?since,all,participating}\",\"labels_url\":\"https://api.github.com/repos/quockhanhng/Agile-Tutorial/labels{/name}\",\"releases_url\":\"https://api.github.com/repos/quockhanhng/Agile-Tutorial/releases{/id}\",\"deployments_url\":\"https://api.github.com/repos/quockhanhng/Agile-Tutorial/deployments\",\"created_at\":\"2020-11-02T16:56:22Z\",\"updated_at\":\"2020-11-02T17:20:22Z\",\"pushed_at\":\"2020-11-02T17:29:56Z\",\"git_url\":\"git://github.com/quockhanhng/Agile-Tutorial.git\",\"ssh_url\":\"git@github.com:quockhanhng/Agile-Tutorial.git\",\"clone_url\":\"https://github.com/quockhanhng/Agile-Tutorial.git\",\"svn_url\":\"https://github.com/quockhanhng/Agile-Tutorial\",\"homepage\":null,\"size\":0,\"stargazers_count\":0,\"watchers_count\":0,\"language\":null,\"has_issues\":true,\"has_projects\":true,\"has_downloads\":true,\"has_wiki\":true,\"has_pages\":false,\"forks_count\":0,\"mirror_url\":null,\"archived\":false,\"disabled\":false,\"open_issues_count\":8,\"license\":null,\"forks\":0,\"open_issues\":8,\"watchers\":0,\"default_branch\":\"main\"}},\"base\":{\"label\":\"quockhanhng:main\",\"ref\":\"main\",\"sha\":\"8fa81c5077647a84c2a3fe3b1360f1773337c8b4\",\"user\":{\"login\":\"quockhanhng\",\"id\":45614293,\"node_id\":\"MDQ6VXNlcjQ1NjE0Mjkz\",\"avatar_url\":\"https://avatars2.githubusercontent.com/u/45614293?v=4\",\"gravatar_id\":\"\",\"url\":\"https://api.github.com/users/quockhanhng\",\"html_url\":\"https://github.com/quockhanhng\",\"followers_url\":\"https://api.github.com/users/quockhanhng/followers\",\"following_url\":\"https://api.github.com/users/quockhanhng/following{/other_user}\",\"gists_url\":\"https://api.github.com/users/quockhanhng/gists{/gist_id}\",\"starred_url\":\"https://api.github.com/users/quockhanhng/starred{/owner}{/repo}\",\"subscriptions_url\":\"https://api.github.com/users/quockhanhng/subscriptions\",\"organizations_url\":\"https://api.github.com/users/quockhanhng/orgs\",\"repos_url\":\"https://api.github.com/users/quockhanhng/repos\",\"events_url\":\"https://api.github.com/users/quockhanhng/events{/privacy}\",\"received_events_url\":\"https://api.github.com/users/quockhanhng/received_events\",\"type\":\"User\",\"site_admin\":false},\"repo\":{\"id\":309436476,\"node_id\":\"MDEwOlJlcG9zaXRvcnkzMDk0MzY0NzY=\",\"name\":\"Agile-Tutorial\",\"full_name\":\"quockhanhng/Agile-Tutorial\",\"private\":false,\"owner\":{\"login\":\"quockhanhng\",\"id\":45614293,\"node_id\":\"MDQ6VXNlcjQ1NjE0Mjkz\",\"avatar_url\":\"https://avatars2.githubusercontent.com/u/45614293?v=4\",\"gravatar_id\":\"\",\"url\":\"https://api.github.com/users/quockhanhng\",\"html_url\":\"https://github.com/quockhanhng\",\"followers_url\":\"https://api.github.com/users/quockhanhng/followers\",\"following_url\":\"https://api.github.com/users/quockhanhng/following{/other_user}\",\"gists_url\":\"https://api.github.com/users/quockhanhng/gists{/gist_id}\",\"starred_url\":\"https://api.github.com/users/quockhanhng/starred{/owner}{/repo}\",\"subscriptions_url\":\"https://api.github.com/users/quockhanhng/subscriptions\",\"organizations_url\":\"https://api.github.com/users/quockhanhng/orgs\",\"repos_url\":\"https://api.github.com/users/quockhanhng/repos\",\"events_url\":\"https://api.github.com/users/quockhanhng/events{/privacy}\",\"received_events_url\":\"https://api.github.com/users/quockhanhng/received_events\",\"type\":\"User\",\"site_admin\":false},\"html_url\":\"https://github.com/quockhanhng/Agile-Tutorial\",\"description\":\"SE04 - Agile tutorial\",\"fork\":false,\"url\":\"https://api.github.com/repos/quockhanhng/Agile-Tutorial\",\"forks_url\":\"https://api.github.com/repos/quockhanhng/Agile-Tutorial/forks\",\"keys_url\":\"https://api.github.com/repos/quockhanhng/Agile-Tutorial/keys{/key_id}\",\"collaborators_url\":\"https://api.github.com/repos/quockhanhng/Agile-Tutorial/collaborators{/collaborator}\",\"teams_url\":\"https://api.github.com/repos/quockhanhng/Agile-Tutorial/teams\",\"hooks_url\":\"https://api.github.com/repos/quockhanhng/Agile-Tutorial/hooks\",\"issue_events_url\":\"https://api.github.com/repos/quockhanhng/Agile-Tutorial/issues/events{/number}\",\"events_url\":\"https://api.github.com/repos/quockhanhng/Agile-Tutorial/events\",\"assignees_url\":\"https://api.github.com/repos/quockhanhng/Agile-Tutorial/assignees{/user}\",\"branches_url\":\"https://api.github.com/repos/quockhanhng/Agile-Tutorial/branches{/branch}\",\"tags_url\":\"https://api.github.com/repos/quockhanhng/Agile-Tutorial/tags\",\"blobs_url\":\"https://api.github.com/repos/quockhanhng/Agile-Tutorial/git/blobs{/sha}\",\"git_tags_url\":\"https://api.github.com/repos/quockhanhng/Agile-Tutorial/git/tags{/sha}\",\"git_refs_url\":\"https://api.github.com/repos/quockhanhng/Agile-Tutorial/git/refs{/sha}\",\"trees_url\":\"https://api.github.com/repos/quockhanhng/Agile-Tutorial/git/trees{/sha}\",\"statuses_url\":\"https://api.github.com/repos/quockhanhng/Agile-Tutorial/statuses/{sha}\",\"languages_url\":\"https://api.github.com/repos/quockhanhng/Agile-Tutorial/languages\",\"stargazers_url\":\"https://api.github.com/repos/quockhanhng/Agile-Tutorial/stargazers\",\"contributors_url\":\"https://api.github.com/repos/quockhanhng/Agile-Tutorial/contributors\",\"subscribers_url\":\"https://api.github.com/repos/quockhanhng/Agile-Tutorial/subscribers\",\"subscription_url\":\"https://api.github.com/repos/quockhanhng/Agile-Tutorial/subscription\",\"commits_url\":\"https://api.github.com/repos/quockhanhng/Agile-Tutorial/commits{/sha}\",\"git_commits_url\":\"https://api.github.com/repos/quockhanhng/Agile-Tutorial/git/commits{/sha}\",\"comments_url\":\"https://api.github.com/repos/quockhanhng/Agile-Tutorial/comments{/number}\",\"issue_comment_url\":\"https://api.github.com/repos/quockhanhng/Agile-Tutorial/issues/comments{/number}\",\"contents_url\":\"https://api.github.com/repos/quockhanhng/Agile-Tutorial/contents/{+path}\",\"compare_url\":\"https://api.github.com/repos/quockhanhng/Agile-Tutorial/compare/{base}...{head}\",\"merges_url\":\"https://api.github.com/repos/quockhanhng/Agile-Tutorial/merges\",\"archive_url\":\"https://api.github.com/repos/quockhanhng/Agile-Tutorial/{archive_format}{/ref}\",\"downloads_url\":\"https://api.github.com/repos/quockhanhng/Agile-Tutorial/downloads\",\"issues_url\":\"https://api.github.com/repos/quockhanhng/Agile-Tutorial/issues{/number}\",\"pulls_url\":\"https://api.github.com/repos/quockhanhng/Agile-Tutorial/pulls{/number}\",\"milestones_url\":\"https://api.github.com/repos/quockhanhng/Agile-Tutorial/milestones{/number}\",\"notifications_url\":\"https://api.github.com/repos/quockhanhng/Agile-Tutorial/notifications{?since,all,participating}\",\"labels_url\":\"https://api.github.com/repos/quockhanhng/Agile-Tutorial/labels{/name}\",\"releases_url\":\"https://api.github.com/repos/quockhanhng/Agile-Tutorial/releases{/id}\",\"deployments_url\":\"https://api.github.com/repos/quockhanhng/Agile-Tutorial/deployments\",\"created_at\":\"2020-11-02T16:56:22Z\",\"updated_at\":\"2020-11-02T17:20:22Z\",\"pushed_at\":\"2020-11-02T17:29:56Z\",\"git_url\":\"git://github.com/quockhanhng/Agile-Tutorial.git\",\"ssh_url\":\"git@github.com:quockhanhng/Agile-Tutorial.git\",\"clone_url\":\"https://github.com/quockhanhng/Agile-Tutorial.git\",\"svn_url\":\"https://github.com/quockhanhng/Agile-Tutorial\",\"homepage\":null,\"size\":0,\"stargazers_count\":0,\"watchers_count\":0,\"language\":null,\"has_issues\":true,\"has_projects\":true,\"has_downloads\":true,\"has_wiki\":true,\"has_pages\":false,\"forks_count\":0,\"mirror_url\":null,\"archived\":false,\"disabled\":false,\"open_issues_count\":8,\"license\":null,\"forks\":0,\"open_issues\":8,\"watchers\":0,\"default_branch\":\"main\"}},\"_links\":{\"self\":{\"href\":\"https://api.github.com/repos/quockhanhng/Agile-Tutorial/pulls/12\"},\"html\":{\"href\":\"https://github.com/quockhanhng/Agile-Tutorial/pull/12\"},\"issue\":{\"href\":\"https://api.github.com/repos/quockhanhng/Agile-Tutorial/issues/12\"},\"comments\":{\"href\":\"https://api.github.com/repos/quockhanhng/Agile-Tutorial/issues/12/comments\"},\"review_comments\":{\"href\":\"https://api.github.com/repos/quockhanhng/Agile-Tutorial/pulls/12/comments\"},\"review_comment\":{\"href\":\"https://api.github.com/repos/quockhanhng/Agile-Tutorial/pulls/comments{/number}\"},\"commits\":{\"href\":\"https://api.github.com/repos/quockhanhng/Agile-Tutorial/pulls/12/commits\"},\"statuses\":{\"href\":\"https://api.github.com/repos/quockhanhng/Agile-Tutorial/statuses/66e0b1ddf2bfc5873f3010d806c158bc1c9d9250\"}},\"author_association\":\"OWNER\",\"active_lock_reason\":null,\"merged\":true,\"mergeable\":null,\"rebaseable\":null,\"mergeable_state\":\"unknown\",\"merged_by\":{\"login\":\"quockhanhng\",\"id\":45614293,\"node_id\":\"MDQ6VXNlcjQ1NjE0Mjkz\",\"avatar_url\":\"https://avatars2.githubusercontent.com/u/45614293?v=4\",\"gravatar_id\":\"\",\"url\":\"https://api.github.com/users/quockhanhng\",\"html_url\":\"https://github.com/quockhanhng\",\"followers_url\":\"https://api.github.com/users/quockhanhng/followers\",\"following_url\":\"https://api.github.com/users/quockhanhng/following{/other_user}\",\"gists_url\":\"https://api.github.com/users/quockhanhng/gists{/gist_id}\",\"starred_url\":\"https://api.github.com/users/quockhanhng/starred{/owner}{/repo}\",\"subscriptions_url\":\"https://api.github.com/users/quockhanhng/subscriptions\",\"organizations_url\":\"https://api.github.com/users/quockhanhng/orgs\",\"repos_url\":\"https://api.github.com/users/quockhanhng/repos\",\"events_url\":\"https://api.github.com/users/quockhanhng/events{/privacy}\",\"received_events_url\":\"https://api.github.com/users/quockhanhng/received_events\",\"type\":\"User\",\"site_admin\":false},\"comments\":0,\"review_comments\":0,\"maintainer_can_modify\":false,\"commits\":1,\"additions\":1,\"deletions\":0,\"changed_files\":1}},\"public\":true,\"created_at\":\"2020-11-02T17:29:56Z\"},{\"id\":\"14054705950\",\"type\":\"PushEvent\",\"actor\":{\"id\":52463246,\"login\":\"ShamelLakin\",\"display_login\":\"ShamelLakin\",\"gravatar_id\":\"\",\"url\":\"https://api.github.com/users/ShamelLakin\",\"avatar_url\":\"https://avatars.githubusercontent.com/u/52463246?\"},\"repo\":{\"id\":199848833,\"name\":\"ShamelLakin/learn-co-sandbox\",\"url\":\"https://api.github.com/repos/ShamelLakin/learn-co-sandbox\"},\"payload\":{\"push_id\":5961126512,\"size\":1,\"distinct_size\":1,\"ref\":\"refs/heads/wip\",\"head\":\"bb015a7b22a3856e62abc6922d51cb9c784abee5\",\"before\":\"824b8c2df9a4ee20ab8dae77dc2656008cf0ae32\",\"commits\":[{\"sha\":\"bb015a7b22a3856e62abc6922d51cb9c784abee5\",\"author\":{\"email\":\"christlife4u@gmail.com\",\"name\":\"Shamel Lakin\"},\"message\":\"Automatically backed up by Learn\",\"distinct\":true,\"url\":\"https://api.github.com/repos/ShamelLakin/learn-co-sandbox/commits/bb015a7b22a3856e62abc6922d51cb9c784abee5\"}]},\"public\":true,\"created_at\":\"2020-11-02T17:29:56Z\"},{\"id\":\"14054705945\",\"type\":\"WatchEvent\",\"actor\":{\"id\":56303620,\"login\":\"TKRFNKSS\",\"display_login\":\"TKRFNKSS\",\"gravatar_id\":\"\",\"url\":\"https://api.github.com/users/TKRFNKSS\",\"avatar_url\":\"https://avatars.githubusercontent.com/u/56303620?\"},\"repo\":{\"id\":225349535,\"name\":\"dylech30th/Pixeval\",\"url\":\"https://api.github.com/repos/dylech30th/Pixeval\"},\"payload\":{\"action\":\"started\"},\"public\":true,\"created_at\":\"2020-11-02T17:29:56Z\"},{\"id\":\"14054705932\",\"type\":\"PushEvent\",\"actor\":{\"id\":54635357,\"login\":\"gautamankitkumar\",\"display_login\":\"gautamankitkumar\",\"gravatar_id\":\"\",\"url\":\"https://api.github.com/users/gautamankitkumar\",\"avatar_url\":\"https://avatars.githubusercontent.com/u/54635357?\"},\"repo\":{\"id\":303019979,\"name\":\"gautamankitkumar/test-travis\",\"url\":\"https://api.github.com/repos/gautamankitkumar/test-travis\"},\"payload\":{\"push_id\":5961126510,\"size\":1,\"distinct_size\":1,\"ref\":\"refs/heads/combined-py-r\",\"head\":\"34f36141d8d6b58c9ab6e2d25afcd1b44fce4f13\",\"before\":\"106aa3efa254d2062bc50b672e769585ba702fb3\",\"commits\":[{\"sha\":\"34f36141d8d6b58c9ab6e2d25afcd1b44fce4f13\",\"author\":{\"email\":\"ankitgau@andrew.cmu.edu\",\"name\":\"Ankit Kumar Gautam\"},\"message\":\"Separate install and script\",\"distinct\":true,\"url\":\"https://api.github.com/repos/gautamankitkumar/test-travis/commits/34f36141d8d6b58c9ab6e2d25afcd1b44fce4f13\"}]},\"public\":true,\"created_at\":\"2020-11-02T17:29:56Z\"},{\"id\":\"14054705930\",\"type\":\"PushEvent\",\"actor\":{\"id\":22623307,\"login\":\"peter-clifford\",\"display_login\":\"peter-clifford\",\"gravatar_id\":\"\",\"url\":\"https://api.github.com/users/peter-clifford\",\"avatar_url\":\"https://avatars.githubusercontent.com/u/22623307?\"},\"repo\":{\"id\":287289752,\"name\":\"peter-clifford/grax-hd-trial\",\"url\":\"https://api.github.com/repos/peter-clifford/grax-hd-trial\"},\"payload\":{\"push_id\":5961126494,\"size\":1,\"distinct_size\":1,\"ref\":\"refs/heads/master\",\"head\":\"0ca91236c7d26ba9fef07c4bba8574b2c9b1eab2\",\"before\":\"4e1f73fdbb26b6e1b80ab3cdedf4016901d57229\",\"commits\":[{\"sha\":\"0ca91236c7d26ba9fef07c4bba8574b2c9b1eab2\",\"author\":{\"email\":\"peter.clifford@outlook.com\",\"name\":\"peter-clifford\"},\"message\":\"From organization 00D3t000003dGf5EAE commited on 2020-11-02T172235\",\"distinct\":true,\"url\":\"https://api.github.com/repos/peter-clifford/grax-hd-trial/commits/0ca91236c7d26ba9fef07c4bba8574b2c9b1eab2\"}]},\"public\":true,\"created_at\":\"2020-11-02T17:29:56Z\"},{\"id\":\"14054705931\",\"type\":\"DeleteEvent\",\"actor\":{\"id\":961747,\"login\":\"kszucs\",\"display_login\":\"kszucs\",\"gravatar_id\":\"\",\"url\":\"https://api.github.com/users/kszucs\",\"avatar_url\":\"https://avatars.githubusercontent.com/u/961747?\"},\"repo\":{\"id\":134711184,\"name\":\"ursa-labs/crossbow\",\"url\":\"https://api.github.com/repos/ursa-labs/crossbow\"},\"payload\":{\"ref\":\"nightly-2020-04-19-0-github-ubuntu-eoan-amd64\",\"ref_type\":\"branch\",\"pusher_type\":\"user\"},\"public\":true,\"created_at\":\"2020-11-02T17:29:56Z\",\"org\":{\"id\":46514972,\"login\":\"ursa-labs\",\"gravatar_id\":\"\",\"url\":\"https://api.github.com/orgs/ursa-labs\",\"avatar_url\":\"https://avatars.githubusercontent.com/u/46514972?\"}},{\"id\":\"14054705909\",\"type\":\"PushEvent\",\"actor\":{\"id\":24257042,\"login\":\"svnscha\",\"display_login\":\"svnscha\",\"gravatar_id\":\"\",\"url\":\"https://api.github.com/users/svnscha\",\"avatar_url\":\"https://avatars.githubusercontent.com/u/24257042?\"},\"repo\":{\"id\":309195190,\"name\":\"svnscha/chiaki\",\"url\":\"https://api.github.com/repos/svnscha/chiaki\"},\"payload\":{\"push_id\":5961126505,\"size\":1,\"distinct_size\":1,\"ref\":\"refs/heads/fix/keystate\",\"head\":\"5ade77ae333eff1dc897f2cea120477ed2541e2c\",\"before\":\"41fdfbae2017dd83ac66522ff96e45e10a9b7c37\",\"commits\":[{\"sha\":\"5ade77ae333eff1dc897f2cea120477ed2541e2c\",\"author\":{\"email\":\"sven.scharmentke@liasoft.de\",\"name\":\"Sven Scharmentke\"},\"message\":\"Update tests\",\"distinct\":true,\"url\":\"https://api.github.com/repos/svnscha/chiaki/commits/5ade77ae333eff1dc897f2cea120477ed2541e2c\"}]},\"public\":true,\"created_at\":\"2020-11-02T17:29:56Z\"},{\"id\":\"14054705900\",\"type\":\"PushEvent\",\"actor\":{\"id\":43959350,\"login\":\"craigwellman\",\"display_login\":\"craigwellman\",\"gravatar_id\":\"\",\"url\":\"https://api.github.com/users/craigwellman\",\"avatar_url\":\"https://avatars.githubusercontent.com/u/43959350?\"},\"repo\":{\"id\":236368134,\"name\":\"stuebersystems/doc.ezcastpro.de\",\"url\":\"https://api.github.com/repos/stuebersystems/doc.ezcastpro.de\"},\"payload\":{\"push_id\":5961126500,\"size\":1,\"distinct_size\":1,\"ref\":\"refs/heads/master\",\"head\":\"7f36958cbabf25ec03a44e0a3f94b4f23d02c090\",\"before\":\"da81af34b315b36817926da333c78a1d6c7407af\",\"commits\":[{\"sha\":\"7f36958cbabf25ec03a44e0a3f94b4f23d02c090\",\"author\":{\"email\":\"craig.wellman@stueber.de\",\"name\":\"Craig Wellman\"},\"message\":\"correction\",\"distinct\":true,\"url\":\"https://api.github.com/repos/stuebersystems/doc.ezcastpro.de/commits/7f36958cbabf25ec03a44e0a3f94b4f23d02c090\"}]},\"public\":true,\"created_at\":\"2020-11-02T17:29:56Z\",\"org\":{\"id\":13050944,\"login\":\"stuebersystems\",\"gravatar_id\":\"\",\"url\":\"https://api.github.com/orgs/stuebersystems\",\"avatar_url\":\"https://avatars.githubusercontent.com/u/13050944?\"}},{\"id\":\"14054705912\",\"type\":\"IssueCommentEvent\",\"actor\":{\"id\":36754821,\"login\":\"codeclimate[bot]\",\"display_login\":\"codeclimate\",\"gravatar_id\":\"\",\"url\":\"https://api.github.com/users/codeclimate[bot]\",\"avatar_url\":\"https://avatars.githubusercontent.com/u/36754821?\"},\"repo\":{\"id\":306720562,\"name\":\"tryber/sd-07-project-shopping-cart\",\"url\":\"https://api.github.com/repos/tryber/sd-07-project-shopping-cart\"},\"payload\":{\"action\":\"created\",\"issue\":{\"url\":\"https://api.github.com/repos/tryber/sd-07-project-shopping-cart/issues/119\",\"repository_url\":\"https://api.github.com/repos/tryber/sd-07-project-shopping-cart\",\"labels_url\":\"https://api.github.com/repos/tryber/sd-07-project-shopping-cart/issues/119/labels{/name}\",\"comments_url\":\"https://api.github.com/repos/tryber/sd-07-project-shopping-cart/issues/119/comments\",\"events_url\":\"https://api.github.com/repos/tryber/sd-07-project-shopping-cart/issues/119/events\",\"html_url\":\"https://github.com/tryber/sd-07-project-shopping-cart/pull/119\",\"id\":730824111,\"node_id\":\"MDExOlB1bGxSZXF1ZXN0NTExMDY3MzUy\",\"number\":119,\"title\":\"Iniciando o projeto\",\"user\":{\"login\":\"vagnerpsousa\",\"id\":67593719,\"node_id\":\"MDQ6VXNlcjY3NTkzNzE5\",\"avatar_url\":\"https://avatars1.githubusercontent.com/u/67593719?v=4\",\"gravatar_id\":\"\",\"url\":\"https://api.github.com/users/vagnerpsousa\",\"html_url\":\"https://github.com/vagnerpsousa\",\"followers_url\":\"https://api.github.com/users/vagnerpsousa/followers\",\"following_url\":\"https://api.github.com/users/vagnerpsousa/following{/other_user}\",\"gists_url\":\"https://api.github.com/users/vagnerpsousa/gists{/gist_id}\",\"starred_url\":\"https://api.github.com/users/vagnerpsousa/starred{/owner}{/repo}\",\"subscriptions_url\":\"https://api.github.com/users/vagnerpsousa/subscriptions\",\"organizations_url\":\"https://api.github.com/users/vagnerpsousa/orgs\",\"repos_url\":\"https://api.github.com/users/vagnerpsousa/repos\",\"events_url\":\"https://api.github.com/users/vagnerpsousa/events{/privacy}\",\"received_events_url\":\"https://api.github.com/users/vagnerpsousa/received_events\",\"type\":\"User\",\"site_admin\":false},\"labels\":[],\"state\":\"open\",\"locked\":false,\"assignee\":null,\"assignees\":[],\"milestone\":null,\"comments\":5,\"created_at\":\"2020-10-27T21:05:06Z\",\"updated_at\":\"2020-11-02T17:29:56Z\",\"closed_at\":null,\"author_association\":\"NONE\",\"active_lock_reason\":null,\"pull_request\":{\"url\":\"https://api.github.com/repos/tryber/sd-07-project-shopping-cart/pulls/119\",\"html_url\":\"https://github.com/tryber/sd-07-project-shopping-cart/pull/119\",\"diff_url\":\"https://github.com/tryber/sd-07-project-shopping-cart/pull/119.diff\",\"patch_url\":\"https://github.com/tryber/sd-07-project-shopping-cart/pull/119.patch\"},\"body\":\"\",\"performed_via_github_app\":null},\"comment\":{\"url\":\"https://api.github.com/repos/tryber/sd-07-project-shopping-cart/issues/comments/720614924\",\"html_url\":\"https://github.com/tryber/sd-07-project-shopping-cart/pull/119#issuecomment-720614924\",\"issue_url\":\"https://api.github.com/repos/tryber/sd-07-project-shopping-cart/issues/119\",\"id\":720614924,\"node_id\":\"MDEyOklzc3VlQ29tbWVudDcyMDYxNDkyNA==\",\"user\":{\"login\":\"codeclimate[bot]\",\"id\":36754821,\"node_id\":\"MDM6Qm90MzY3NTQ4MjE=\",\"avatar_url\":\"https://avatars0.githubusercontent.com/in/9403?v=4\",\"gravatar_id\":\"\",\"url\":\"https://api.github.com/users/codeclimate%5Bbot%5D\",\"html_url\":\"https://github.com/apps/codeclimate\",\"followers_url\":\"https://api.github.com/users/codeclimate%5Bbot%5D/followers\",\"following_url\":\"https://api.github.com/users/codeclimate%5Bbot%5D/following{/other_user}\",\"gists_url\":\"https://api.github.com/users/codeclimate%5Bbot%5D/gists{/gist_id}\",\"starred_url\":\"https://api.github.com/users/codeclimate%5Bbot%5D/starred{/owner}{/repo}\",\"subscriptions_url\":\"https://api.github.com/users/codeclimate%5Bbot%5D/subscriptions\",\"organizations_url\":\"https://api.github.com/users/codeclimate%5Bbot%5D/orgs\",\"repos_url\":\"https://api.github.com/users/codeclimate%5Bbot%5D/repos\",\"events_url\":\"https://api.github.com/users/codeclimate%5Bbot%5D/events{/privacy}\",\"received_events_url\":\"https://api.github.com/users/codeclimate%5Bbot%5D/received_events\",\"type\":\"Bot\",\"site_admin\":false},\"created_at\":\"2020-11-02T17:29:56Z\",\"updated_at\":\"2020-11-02T17:29:56Z\",\"author_association\":\"NONE\",\"body\":\"Code Climate has analyzed commit bbf38bc2 and detected **0 issues** on this pull request.\\\\n\\\\nView more on [Code Climate](https://codeclimate.com/github/tryber/sd-07-project-shopping-cart/pull/119).\\\\n\",\"performed_via_github_app\":null}},\"public\":true,\"created_at\":\"2020-11-02T17:29:56Z\",\"org\":{\"id\":55410300,\"login\":\"tryber\",\"gravatar_id\":\"\",\"url\":\"https://api.github.com/orgs/tryber\",\"avatar_url\":\"https://avatars.githubusercontent.com/u/55410300?\"}},{\"id\":\"14054705898\",\"type\":\"WatchEvent\",\"actor\":{\"id\":51511859,\"login\":\"zemanyak\",\"display_login\":\"zemanyak\",\"gravatar_id\":\"\",\"url\":\"https://api.github.com/users/zemanyak\",\"avatar_url\":\"https://avatars.githubusercontent.com/u/51511859?\"},\"repo\":{\"id\":308593507,\"name\":\"Alkl58/Av1an-Qt\",\"url\":\"https://api.github.com/repos/Alkl58/Av1an-Qt\"},\"payload\":{\"action\":\"started\"},\"public\":true,\"created_at\":\"2020-11-02T17:29:56Z\"},{\"id\":\"14054705859\",\"type\":\"PushEvent\",\"actor\":{\"id\":8078968,\"login\":\"jbrockmendel\",\"display_login\":\"jbrockmendel\",\"gravatar_id\":\"\",\"url\":\"https://api.github.com/users/jbrockmendel\",\"avatar_url\":\"https://avatars.githubusercontent.com/u/8078968?\"},\"repo\":{\"id\":858127,\"name\":\"pandas-dev/pandas\",\"url\":\"https://api.github.com/repos/pandas-dev/pandas\"},\"payload\":{\"push_id\":5961126462,\"size\":1,\"distinct_size\":1,\"ref\":\"refs/heads/master\",\"head\":\"c583144d457a1a677d202edcf37aac7de7af2a6f\",\"before\":\"b867e21d56ae986b0f31a185340a08a54b8db5a3\",\"commits\":[{\"sha\":\"c583144d457a1a677d202edcf37aac7de7af2a6f\",\"author\":{\"email\":\"jbrockmendel@gmail.com\",\"name\":\"jbrockmendel\"},\"message\":\"catch FutureWarnings (#37587)\",\"distinct\":true,\"url\":\"https://api.github.com/repos/pandas-dev/pandas/commits/c583144d457a1a677d202edcf37aac7de7af2a6f\"}]},\"public\":true,\"created_at\":\"2020-11-02T17:29:56Z\",\"org\":{\"id\":21206976,\"login\":\"pandas-dev\",\"gravatar_id\":\"\",\"url\":\"https://api.github.com/orgs/pandas-dev\",\"avatar_url\":\"https://avatars.githubusercontent.com/u/21206976?\"}},{\"id\":\"14054705889\",\"type\":\"PushEvent\",\"actor\":{\"id\":7668305,\"login\":\"ichko\",\"display_login\":\"ichko\",\"gravatar_id\":\"\",\"url\":\"https://api.github.com/users/ichko\",\"avatar_url\":\"https://avatars.githubusercontent.com/u/7668305?\"},\"repo\":{\"id\":217603467,\"name\":\"ichko/ichko.github.io\",\"url\":\"https://api.github.com/repos/ichko/ichko.github.io\"},\"payload\":{\"push_id\":5961126493,\"size\":1,\"distinct_size\":1,\"ref\":\"refs/heads/master\",\"head\":\"9e45594b5b83a272a226bf0f16f65a6f3f635714\",\"before\":\"5f4124db344945308840f03801099087641bd9b4\",\"commits\":[{\"sha\":\"9e45594b5b83a272a226bf0f16f65a6f3f635714\",\"author\":{\"email\":\"iliya.zhechev@gmail.com\",\"name\":\"Iliya Zhecev\"},\"message\":\"OneD Gan new layout\",\"distinct\":true,\"url\":\"https://api.github.com/repos/ichko/ichko.github.io/commits/9e45594b5b83a272a226bf0f16f65a6f3f635714\"}]},\"public\":true,\"created_at\":\"2020-11-02T17:29:56Z\"},{\"id\":\"14054705896\",\"type\":\"CreateEvent\",\"actor\":{\"id\":158862,\"login\":\"arlac77\",\"display_login\":\"arlac77\",\"gravatar_id\":\"\",\"url\":\"https://api.github.com/users/arlac77\",\"avatar_url\":\"https://avatars.githubusercontent.com/u/158862?\"},\"repo\":{\"id\":272789708,\"name\":\"arlac77/gitlab-repository-provider\",\"url\":\"https://api.github.com/repos/arlac77/gitlab-repository-provider\"},\"payload\":{\"ref\":\"mkpr/1\",\"ref_type\":\"branch\",\"master_branch\":\"master\",\"description\":\"repository provider for gitlab hosted repos\",\"pusher_type\":\"user\"},\"public\":true,\"created_at\":\"2020-11-02T17:29:56Z\"},{\"id\":\"14054705873\",\"type\":\"PushEvent\",\"actor\":{\"id\":58224796,\"login\":\"andreimsuciu\",\"display_login\":\"andreimsuciu\",\"gravatar_id\":\"\",\"url\":\"https://api.github.com/users/andreimsuciu\",\"avatar_url\":\"https://avatars.githubusercontent.com/u/58224796?\"},\"repo\":{\"id\":307434545,\"name\":\"andreimsuciu/FLCD\",\"url\":\"https://api.github.com/repos/andreimsuciu/FLCD\"},\"payload\":{\"push_id\":5961126491,\"size\":1,\"distinct_size\":1,\"ref\":\"refs/heads/main\",\"head\":\"d9b19ba56d19e14e79f48c6099c9e8deef3a53c8\",\"before\":\"fda621efdb0dc56695ddef4c11727c0cb6c8df23\",\"commits\":[{\"sha\":\"d9b19ba56d19e14e79f48c6099c9e8deef3a53c8\",\"author\":{\"email\":\"andreisuciu@hotmail,com\",\"name\":\"andreimsuciu\"},\"message\":\"updated docs\",\"distinct\":true,\"url\":\"https://api.github.com/repos/andreimsuciu/FLCD/commits/d9b19ba56d19e14e79f48c6099c9e8deef3a53c8\"}]},\"public\":true,\"created_at\":\"2020-11-02T17:29:56Z\"},{\"id\":\"14054705882\",\"type\":\"IssueCommentEvent\",\"actor\":{\"id\":40062230,\"login\":\"dehade\",\"display_login\":\"dehade\",\"gravatar_id\":\"\",\"url\":\"https://api.github.com/users/dehade\",\"avatar_url\":\"https://avatars.githubusercontent.com/u/40062230?\"},\"repo\":{\"id\":237705160,\"name\":\"DesktopECHO/xWSL\",\"url\":\"https://api.github.com/repos/DesktopECHO/xWSL\"},\"payload\":{\"action\":\"created\",\"issue\":{\"url\":\"https://api.github.com/repos/DesktopECHO/xWSL/issues/17\",\"repository_url\":\"https://api.github.com/repos/DesktopECHO/xWSL\",\"labels_url\":\"https://api.github.com/repos/DesktopECHO/xWSL/issues/17/labels{/name}\",\"comments_url\":\"https://api.github.com/repos/DesktopECHO/xWSL/issues/17/comments\",\"events_url\":\"https://api.github.com/repos/DesktopECHO/xWSL/issues/17/events\",\"html_url\":\"https://github.com/DesktopECHO/xWSL/issues/17\",\"id\":733348916,\"node_id\":\"MDU6SXNzdWU3MzMzNDg5MTY=\",\"number\":17,\"title\":\"converting to wls 2 no xrdp access possible\",\"user\":{\"login\":\"dehade\",\"id\":40062230,\"node_id\":\"MDQ6VXNlcjQwMDYyMjMw\",\"avatar_url\":\"https://avatars3.githubusercontent.com/u/40062230?v=4\",\"gravatar_id\":\"\",\"url\":\"https://api.github.com/users/dehade\",\"html_url\":\"https://github.com/dehade\",\"followers_url\":\"https://api.github.com/users/dehade/followers\",\"following_url\":\"https://api.github.com/users/dehade/following{/other_user}\",\"gists_url\":\"https://api.github.com/users/dehade/gists{/gist_id}\",\"starred_url\":\"https://api.github.com/users/dehade/starred{/owner}{/repo}\",\"subscriptions_url\":\"https://api.github.com/users/dehade/subscriptions\",\"organizations_url\":\"https://api.github.com/users/dehade/orgs\",\"repos_url\":\"https://api.github.com/users/dehade/repos\",\"events_url\":\"https://api.github.com/users/dehade/events{/privacy}\",\"received_events_url\":\"https://api.github.com/users/dehade/received_events\",\"type\":\"User\",\"site_admin\":false},\"labels\":[],\"state\":\"open\",\"locked\":false,\"assignee\":null,\"assignees\":[],\"milestone\":null,\"comments\":4,\"created_at\":\"2020-10-30T17:00:36Z\",\"updated_at\":\"2020-11-02T17:29:56Z\",\"closed_at\":null,\"author_association\":\"NONE\",\"active_lock_reason\":null,\"body\":\"Hi,\\\\r\\\\n\\\\r\\\\ni installed regarding your script.\\\\r\\\\n\\\\r\\\\nInstallation succeeded and xrdp was possible on wsl 1.\\\\r\\\\n\\\\r\\\\nAfter that i converted to wsl 2.\\\\r\\\\n\\\\r\\\\nI changed the .rdp connection, as you discribed in you documentation.\\\\r\\\\n\\\\r\\\\nSo similar from <windows hostname>:3333 to <windows hostname>-<distroname>.local.\\\\r\\\\n\\\\r\\\\nBut <windows hostname>-<distroname>.local is an unknown hostname.\\\\r\\\\n\\\\r\\\\nEvery time the distro is started, it gets a new ip address.\\\\r\\\\n\\\\r\\\\nFrom windows host i can ping the ip.\\\\r\\\\n\\\\r\\\\nBut even the rdp connection directly using this ip does not work.\\\\r\\\\n\\\\r\\\\n\",\"performed_via_github_app\":null},\"comment\":{\"url\":\"https://api.github.com/repos/DesktopECHO/xWSL/issues/comments/720614923\",\"html_url\":\"https://github.com/DesktopECHO/xWSL/issues/17#issuecomment-720614923\",\"issue_url\":\"https://api.github.com/repos/DesktopECHO/xWSL/issues/17\",\"id\":720614923,\"node_id\":\"MDEyOklzc3VlQ29tbWVudDcyMDYxNDkyMw==\",\"user\":{\"login\":\"dehade\",\"id\":40062230,\"node_id\":\"MDQ6VXNlcjQwMDYyMjMw\",\"avatar_url\":\"https://avatars3.githubusercontent.com/u/40062230?v=4\",\"gravatar_id\":\"\",\"url\":\"https://api.github.com/users/dehade\",\"html_url\":\"https://github.com/dehade\",\"followers_url\":\"https://api.github.com/users/dehade/followers\",\"following_url\":\"https://api.github.com/users/dehade/following{/other_user}\",\"gists_url\":\"https://api.github.com/users/dehade/gists{/gist_id}\",\"starred_url\":\"https://api.github.com/users/dehade/starred{/owner}{/repo}\",\"subscriptions_url\":\"https://api.github.com/users/dehade/subscriptions\",\"organizations_url\":\"https://api.github.com/users/dehade/orgs\",\"repos_url\":\"https://api.github.com/users/dehade/repos\",\"events_url\":\"https://api.github.com/users/dehade/events{/privacy}\",\"received_events_url\":\"https://api.github.com/users/dehade/received_events\",\"type\":\"User\",\"site_admin\":false},\"created_at\":\"2020-11-02T17:29:56Z\",\"updated_at\":\"2020-11-02T17:29:56Z\",\"author_association\":\"NONE\",\"body\":\"One info detail is missing. The reason for „ I enabled the user, added at creating the instance, so that he can execute sudo commands without specifiying the root password (especially for startting/ restarting services).“ is that the wsl 2 is started with a user and not the root user. The .bashrc file for the user has been extended with the mentioned sh script. The wsl 2 instance is started with wsl -d <instance> -u <user>.\",\"performed_via_github_app\":null}},\"public\":true,\"created_at\":\"2020-11-02T17:29:56Z\"},{\"id\":\"14054705871\",\"type\":\"PushEvent\",\"actor\":{\"id\":41490079,\"login\":\"BelCellTracker\",\"display_login\":\"BelCellTracker\",\"gravatar_id\":\"\",\"url\":\"https://api.github.com/users/BelCellTracker\",\"avatar_url\":\"https://avatars.githubusercontent.com/u/41490079?\"},\"repo\":{\"id\":141812784,\"name\":\"BelCellTracker/csv\",\"url\":\"https://api.github.com/repos/BelCellTracker/csv\"},\"payload\":{\"push_id\":5961126486,\"size\":1,\"distinct_size\":1,\"ref\":\"refs/heads/master\",\"head\":\"f6fd3b8e0b0ebf25c1d5acefcb4efe454ca11098\",\"before\":\"d5e25fe2773e073a4cd287759373d12dc29e9403\",\"commits\":[{\"sha\":\"f6fd3b8e0b0ebf25c1d5acefcb4efe454ca11098\",\"author\":{\"email\":\"41490079+BelCellTracker@users.noreply.github.com\",\"name\":\"BelCellTracker\"},\"message\":\"1 files | M beCloud/Minsk.csv\",\"distinct\":true,\"url\":\"https://api.github.com/repos/BelCellTracker/csv/commits/f6fd3b8e0b0ebf25c1d5acefcb4efe454ca11098\"}]},\"public\":true,\"created_at\":\"2020-11-02T17:29:56Z\"},{\"id\":\"14054705844\",\"type\":\"PushEvent\",\"actor\":{\"id\":41898282,\"login\":\"github-actions[bot]\",\"display_login\":\"github-actions\",\"gravatar_id\":\"\",\"url\":\"https://api.github.com/users/github-actions[bot]\",\"avatar_url\":\"https://avatars.githubusercontent.com/u/41898282?\"},\"repo\":{\"id\":295876316,\"name\":\"isaacrlevin/isaacrlevin\",\"url\":\"https://api.github.com/repos/isaacrlevin/isaacrlevin\"},\"payload\":{\"push_id\":5961126471,\"size\":1,\"distinct_size\":1,\"ref\":\"refs/heads/master\",\"head\":\"c5c31afed233360a7a328ac75ce460b96c0603a5\",\"before\":\"30916c3f6a17870f9397d14bcbcf568915ce4dfe\",\"commits\":[{\"sha\":\"c5c31afed233360a7a328ac75ce460b96c0603a5\",\"author\":{\"email\":\"actions@users.noreply.github.com\",\"name\":\"Automated Publisher\"},\"message\":\"Automated publish: Mon Nov  2 17:29:52 UTC 2020 30916c3f6a17870f9397d14bcbcf568915ce4dfe\",\"distinct\":true,\"url\":\"https://api.github.com/repos/isaacrlevin/isaacrlevin/commits/c5c31afed233360a7a328ac75ce460b96c0603a5\"}]},\"public\":true,\"created_at\":\"2020-11-02T17:29:56Z\"},{\"id\":\"14054705860\",\"type\":\"CreateEvent\",\"actor\":{\"id\":62751179,\"login\":\"tejaulli\",\"display_login\":\"tejaulli\",\"gravatar_id\":\"\",\"url\":\"https://api.github.com/users/tejaulli\",\"avatar_url\":\"https://avatars.githubusercontent.com/u/62751179?\"},\"repo\":{\"id\":309445498,\"name\":\"tejaulli/PikupTask\",\"url\":\"https://api.github.com/repos/tejaulli/PikupTask\"},\"payload\":{\"ref\":null,\"ref_type\":\"repository\",\"master_branch\":\"master\",\"description\":null,\"pusher_type\":\"user\"},\"public\":true,\"created_at\":\"2020-11-02T17:29:56Z\"},{\"id\":\"14054705842\",\"type\":\"PushEvent\",\"actor\":{\"id\":7611973,\"login\":\"rbren\",\"display_login\":\"rbren\",\"gravatar_id\":\"\",\"url\":\"https://api.github.com/users/rbren\",\"avatar_url\":\"https://avatars.githubusercontent.com/u/7611973?\"},\"repo\":{\"id\":203177525,\"name\":\"rbren/personal-kubernetes\",\"url\":\"https://api.github.com/repos/rbren/personal-kubernetes\"},\"payload\":{\"push_id\":5961126470,\"size\":2,\"distinct_size\":2,\"ref\":\"refs/heads/master\",\"head\":\"ba96278baa493b3bcc1edce157179c7983581e44\",\"before\":\"72d8e71454c42a2a21c355ceebb378b48b34b4f8\",\"commits\":[{\"sha\":\"2e21a6922aed4a333125597b1be3dcc10a9a13fd\",\"author\":{\"email\":\"contact@rbren.io\",\"name\":\"Robert Brennan\"},\"message\":\"add migrate-lychee docs\",\"distinct\":true,\"url\":\"https://api.github.com/repos/rbren/personal-kubernetes/commits/2e21a6922aed4a333125597b1be3dcc10a9a13fd\"},{\"sha\":\"ba96278baa493b3bcc1edce157179c7983581e44\",\"author\":{\"email\":\"contact@rbren.io\",\"name\":\"Robert Brennan\"},\"message\":\"update lychee to v4\",\"distinct\":true,\"url\":\"https://api.github.com/repos/rbren/personal-kubernetes/commits/ba96278baa493b3bcc1edce157179c7983581e44\"}]},\"public\":true,\"created_at\":\"2020-11-02T17:29:56Z\"},{\"id\":\"14054705826\",\"type\":\"PushEvent\",\"actor\":{\"id\":39814207,\"login\":\"pull[bot]\",\"display_login\":\"pull\",\"gravatar_id\":\"\",\"url\":\"https://api.github.com/users/pull[bot]\",\"avatar_url\":\"https://avatars.githubusercontent.com/u/39814207?\"},\"repo\":{\"id\":125702892,\"name\":\"Pandinosaurus/go\",\"url\":\"https://api.github.com/repos/Pandinosaurus/go\"},\"payload\":{\"push_id\":5961126455,\"size\":5,\"distinct_size\":5,\"ref\":\"refs/heads/master\",\"head\":\"05e6d28849293266028c0bc9e9b0f8d0da38a2e2\",\"before\":\"7be8358f70ff858f28b9aefe11986da25f1762bc\",\"commits\":[{\"sha\":\"d5388e23b5c75bf8189b173051d24a0176a5a303\",\"author\":{\"email\":\"jswinney@amazon.com\",\"name\":\"Jonathan Swinney\"},\"message\":\"runtime: improve memmove performance on arm64\\\\n\\\\nReplace the memmove implementation for moves of 17 bytes or larger\\\\nwith an implementation from ARM optimized software. The moves of 16\\\\nbytes or fewer are unchanged, but the registers used are updated to\\\\nmatch the rest of the implementation.\\\\n\\\\nThis implementation makes use of new optimizations:\\\\n - software pipelined loop for large (>128 byte) moves\\\\n - medium size moves (17..128 bytes) have a new implementation\\\\n - address realignment when src or dst is unaligned\\\\n - preference for aligned src (loads) or dst (stores) depending on CPU\\\\n\\\\nTo support preference for aligned loads or aligned stores, a new CPU\\\\nflag is added. This flag indicates that the detected micro\\\\narchitecture performs better with aligned loads. Some tested CPUs did\\\\nnot exhibit a significant difference and are left with the default\\\\nbehavior of realigning based on the destination address (stores).\\\\n\\\\nNeoverse N1 (Tested on Graviton 2)\\\\nname                               old time/op    new time/op     delta\\\\nMemmove/0-4                          1.88ns ± 1%     1.87ns ± 1%   -0.58%  (p=0.020 n=10+10)\\\\nMemmove/1-4                          4.40ns ± 0%     4.40ns ± 0%     ~     (all equal)\\\\nMemmove/8-4                          3.88ns ± 3%     3.80ns ± 0%   -1.97%  (p=0.001 n=10+9)\\\\nMemmove/16-4                         3.90ns ± 3%     3.80ns ± 0%   -2.49%  (p=0.000 n=10+9)\\\\nMemmove/32-4                         4.80ns ± 0%     4.40ns ± 0%   -8.33%  (p=0.000 n=9+8)\\\\nMemmove/64-4                         5.86ns ± 0%     5.00ns ± 0%  -14.76%  (p=0.000 n=8+8)\\\\nMemmove/128-4                        8.46ns ± 0%     8.06ns ± 0%   -4.62%  (p=0.000 n=10+10)\\\\nMemmove/256-4                        12.4ns ± 0%     12.2ns ± 0%   -1.61%  (p=0.000 n=10+10)\\\\nMemmove/512-4                        19.5ns ± 0%     19.1ns ± 0%   -2.05%  (p=0.000 n=10+10)\\\\nMemmove/1024-4                       33.7ns ± 0%     33.5ns ± 0%   -0.59%  (p=0.000 n=10+10)\\\\nMemmove/2048-4                       62.1ns ± 0%     59.0ns ± 0%   -4.99%  (p=0.000 n=10+10)\\\\nMemmove/4096-4                        117ns ± 1%      110ns ± 0%   -5.66%  (p=0.000 n=10+10)\\\\nMemmoveUnalignedDst/64-4             6.41ns ± 0%     5.62ns ± 0%  -12.32%  (p=0.000 n=10+7)\\\\nMemmoveUnalignedDst/128-4            9.40ns ± 0%     8.34ns ± 0%  -11.24%  (p=0.000 n=10+10)\\\\nMemmoveUnalignedDst/256-4            12.8ns ± 0%     12.8ns ± 0%     ~     (all equal)\\\\nMemmoveUnalignedDst/512-4            20.4ns ± 0%     19.7ns ± 0%   -3.43%  (p=0.000 n=9+10)\\\\nMemmoveUnalignedDst/1024-4           34.1ns ± 0%     35.1ns ± 0%   +2.93%  (p=0.000 n=9+9)\\\\nMemmoveUnalignedDst/2048-4           61.5ns ± 0%     60.4ns ± 0%   -1.77%  (p=0.000 n=10+10)\\\\nMemmoveUnalignedDst/4096-4            122ns ± 0%      113ns ± 0%   -7.38%  (p=0.002 n=8+10)\\\\nMemmoveUnalignedSrc/64-4             7.25ns ± 1%     6.26ns ± 0%  -13.64%  (p=0.000 n=9+9)\\\\nMemmoveUnalignedSrc/128-4            10.5ns ± 0%      9.7ns ± 0%   -7.52%  (p=0.000 n=10+10)\\\\nMemmoveUnalignedSrc/256-4            17.1ns ± 0%     17.3ns ± 0%   +1.17%  (p=0.000 n=10+10)\\\\nMemmoveUnalignedSrc/512-4            27.0ns ± 0%     27.0ns ± 0%     ~     (all equal)\\\\nMemmoveUnalignedSrc/1024-4           46.7ns ± 0%     35.7ns ± 0%  -23.55%  (p=0.000 n=10+9)\\\\nMemmoveUnalignedSrc/2048-4           85.2ns ± 0%     61.2ns ± 0%  -28.17%  (p=0.000 n=10+8)\\\\nMemmoveUnalignedSrc/4096-4            162ns ± 0%      113ns ± 0%  -30.25%  (p=0.000 n=10+10)\\\\n\\\\nname                               old speed      new speed       delta\\\\nMemmove/4096-4                     35.2GB/s ± 0%   37.1GB/s ± 0%   +5.56%  (p=0.000 n=10+9)\\\\nMemmoveUnalignedSrc/1024-4         21.9GB/s ± 0%   28.7GB/s ± 0%  +30.90%  (p=0.000 n=10+10)\\\\nMemmoveUnalignedSrc/2048-4         24.0GB/s ± 0%   33.5GB/s ± 0%  +39.18%  (p=0.000 n=10+9)\\\\nMemmoveUnalignedSrc/4096-4         25.3GB/s ± 0%   36.2GB/s ± 0%  +43.50%  (p=0.000 n=10+7)\\\\n\\\\nCortex-A72 (Graviton 1)\\\\nname                               old time/op    new time/op    delta\\\\nMemmove/0-4                          3.06ns ± 3%    3.08ns ± 1%     ~     (p=0.958 n=10+9)\\\\nMemmove/1-4                          8.72ns ± 0%    7.85ns ± 0%   -9.98%  (p=0.002 n=8+10)\\\\nMemmove/8-4                          8.29ns ± 0%    8.29ns ± 0%     ~     (all equal)\\\\nMemmove/16-4                         8.29ns ± 0%    8.29ns ± 0%     ~     (all equal)\\\\nMemmove/32-4                         8.19ns ± 2%    8.29ns ± 0%     ~     (p=0.114 n=10+10)\\\\nMemmove/64-4                         18.3ns ± 4%    10.0ns ± 0%  -45.36%  (p=0.000 n=10+10)\\\\nMemmove/128-4                        14.8ns ± 0%    17.4ns ± 0%  +17.77%  (p=0.000 n=10+10)\\\\nMemmove/256-4                        21.8ns ± 0%    23.1ns ± 0%   +5.96%  (p=0.000 n=10+10)\\\\nMemmove/512-4                        35.8ns ± 0%    37.2ns ± 0%   +3.91%  (p=0.000 n=10+10)\\\\nMemmove/1024-4                       63.7ns ± 0%    67.2ns ± 0%   +5.49%  (p=0.000 n=10+10)\\\\nMemmove/2048-4                        126ns ± 0%     123ns ± 0%   -2.38%  (p=0.000 n=10+10)\\\\nMemmove/4096-4                        238ns ± 1%     243ns ± 1%   +1.93%  (p=0.000 n=10+10)\\\\nMemmoveUnalignedDst/64-4             19.3ns ± 1%    12.0ns ± 1%  -37.49%  (p=0.000 n=10+10)\\\\nMemmoveUnalignedDst/128-4            17.2ns ± 0%    17.4ns ± 0%   +1.16%  (p=0.000 n=10+10)\\\\nMemmoveUnalignedDst/256-4            28.2ns ± 8%    29.2ns ± 0%     ~     (p=0.352 n=10+10)\\\\nMemmoveUnalignedDst/512-4            49.8ns ± 3%    48.9ns ± 0%     ~     (p=1.000 n=10+10)\\\\nMemmoveUnalignedDst/1024-4           89.5ns ± 0%    80.5ns ± 1%  -10.02%  (p=0.000 n=10+10)\\\\nMemmoveUnalignedDst/2048-4            180ns ± 0%     127ns ± 0%  -29.44%  (p=0.000 n=9+10)\\\\nMemmoveUnalignedDst/4096-4            347ns ± 0%     244ns ± 0%  -29.59%  (p=0.000 n=10+9)\\\\nMemmoveUnalignedSrc/128-4            16.1ns ± 0%    21.8ns ± 0%  +35.40%  (p=0.000 n=10+10)\\\\nMemmoveUnalignedSrc/256-4            24.9ns ± 8%    26.6ns ± 0%   +6.70%  (p=0.015 n=10+10)\\\\nMemmoveUnalignedSrc/512-4            39.4ns ± 6%    40.6ns ± 0%     ~     (p=0.352 n=10+10)\\\\nMemmoveUnalignedSrc/1024-4           72.5ns ± 0%    83.0ns ± 1%  +14.44%  (p=0.000 n=9+10)\\\\nMemmoveUnalignedSrc/2048-4            129ns ± 1%     128ns ± 1%     ~     (p=0.179 n=10+10)\\\\nMemmoveUnalignedSrc/4096-4            241ns ± 0%     253ns ± 1%   +4.99%  (p=0.000 n=9+9)\\\\n\\\\nCortex-A53 (Raspberry Pi 3)\\\\nname                               old time/op    new time/op    delta\\\\nMemmove/0-4                          11.0ns ± 0%    11.0ns ± 1%     ~     (p=0.294 n=8+10)\\\\nMemmove/1-4                          29.6ns ± 0%    28.0ns ± 1%   -5.41%  (p=0.000 n=9+10)\\\\nMemmove/8-4                          23.5ns ± 0%    22.1ns ± 0%   -6.11%  (p=0.000 n=8+8)\\\\nMemmove/16-4                         23.7ns ± 1%    22.1ns ± 0%   -6.59%  (p=0.000 n=10+8)\\\\nMemmove/32-4                         27.9ns ± 0%    27.1ns ± 0%   -3.13%  (p=0.000 n=8+8)\\\\nMemmove/64-4                         33.8ns ± 0%    31.5ns ± 1%   -6.99%  (p=0.000 n=8+10)\\\\nMemmove/128-4                        45.6ns ± 0%    44.2ns ± 1%   -3.23%  (p=0.000 n=9+10)\\\\nMemmove/256-4                        69.3ns ± 0%    69.3ns ± 0%     ~     (p=0.072 n=8+8)\\\\nMemmove/512-4                         127ns ± 0%     110ns ± 0%  -13.39%  (p=0.000 n=8+8)\\\\nMemmove/1024-4                        222ns ± 0%     205ns ± 1%   -7.66%  (p=0.000 n=7+10)\\\\nMemmove/2048-4                        411ns ± 0%     366ns ± 0%  -10.98%  (p=0.000 n=8+9)\\\\nMemmove/4096-4                        795ns ± 1%     695ns ± 1%  -12.63%  (p=0.000 n=10+10)\\\\nMemmoveUnalignedDst/64-4             44.0ns ± 0%    40.5ns ± 0%   -7.93%  (p=0.000 n=8+8)\\\\nMemmoveUnalignedDst/128-4            59.6ns ± 0%    54.9ns ± 0%   -7.85%  (p=0.000 n=9+9)\\\\nMemmoveUnalignedDst/256-4            98.2ns ±11%    90.0ns ± 1%     ~     (p=0.130 n=10+10)\\\\nMemmoveUnalignedDst/512-4             161ns ± 2%     145ns ± 1%   -9.96%  (p=0.000 n=10+10)\\\\nMemmoveUnalignedDst/1024-4            281ns ± 0%     265ns ± 0%   -5.65%  (p=0.000 n=9+8)\\\\nMemmoveUnalignedDst/2048-4            528ns ± 0%     482ns ± 0%   -8.73%  (p=0.000 n=8+9)\\\\nMemmoveUnalignedDst/4096-4           1.02µs ± 1%    0.92µs ± 0%  -10.00%  (p=0.000 n=10+8)\\\\nMemmoveUnalignedSrc/64-4             42.4ns ± 1%    40.5ns ± 0%   -4.39%  (p=0.000 n=10+8)\\\\nMemmoveUnalignedSrc/128-4            57.4ns ± 0%    57.0ns ± 1%   -0.75%  (p=0.048 n=9+10)\\\\nMemmoveUnalignedSrc/256-4            88.1ns ± 1%    89.6ns ± 0%   +1.70%  (p=0.000 n=9+8)\\\\nMemmoveUnalignedSrc/512-4             160ns ± 2%     144ns ± 0%   -9.89%  (p=0.000 n=10+8)\\\\nMemmoveUnalignedSrc/1024-4            286ns ± 0%     266ns ± 1%   -6.69%  (p=0.000 n=8+10)\\\\nMemmoveUnalignedSrc/2048-4            525ns ± 0%     483ns ± 1%   -7.96%  (p=0.000 n=9+10)\\\\nMemmoveUnalignedSrc/4096-4           1.01µs ± 0%    0.92µs ± 1%   -9.40%  (p=0.000 n=8+10)\\\\n\\\\nChange-Id: Ia1144e9d4dfafdece6e167c5e576bf80f254c8ab\\\\nReviewed-on: https://go-review.googlesource.com/c/go/+/243357\\\\nTryBot-Result: Go Bot <gobot@golang.org>\\\\nReviewed-by: Martin Möhrmann <moehrmann@google.com>\\\\nReviewed-by: eric fang <eric.fang@arm.com>\\\\nReviewed-by: Cherry Zhang <cherryyz@google.com>\",\"distinct\":true,\"url\":\"https://api.github.com/repos/Pandinosaurus/go/commits/d5388e23b5c75bf8189b173051d24a0176a5a303\"},{\"sha\":\"cb65c8d58ac76abdaa6d14cc0742ca23d00ff524\",\"author\":{\"email\":\"bcmills@google.com\",\"name\":\"Bryan C. Mills\"},\"message\":\"syscall: switch go:generate directives back to mksyscall_windows.go\\\\n\\\\nAdjust mksyscall_windows.go to activate module mode and set\\\\n-mod=readonly, and to suppress its own deprecation warning when run\\\\nfrom within GOROOT/src.\\\\n\\\\nWe can\\'t vendor the mkwinsyscall tool in to the std module directly,\\\\nbecause std-vendored dependencies (unlike the dependencies of all\\\\nother modules) turn into actual, distinct packages in \\'std\\' when\\\\nviewed from outside the \\'std\\' module. We don\\'t want to introduce a\\\\nbinary in the \\'std\\' meta-pattern, but we also don\\'t particularly want\\\\nto add more special-cases to the \\'go\\' command right now when we have\\\\nan existing wrapper program that can do the job.\\\\n\\\\nI also regenerated the affected packages to ensure that they are\\\\nconsistent with the current version of mksyscall, which produced some\\\\ndeclaration-order changes in\\\\ninternal/syscall/windows/zsyscall_windows.go.\\\\n\\\\nFixes #41916\\\\nUpdates #25922\\\\n\\\\nChange-Id: If6e6f8ba3dd372a7ecd6820ee6c0ca38d55f0f35\\\\nReviewed-on: https://go-review.googlesource.com/c/go/+/261499\\\\nTrust: Bryan C. Mills <bcmills@google.com>\\\\nTrust: Alex Brainman <alex.brainman@gmail.com>\\\\nReviewed-by: Dmitri Shuralyov <dmitshur@golang.org>\\\\nReviewed-by: Alex Brainman <alex.brainman@gmail.com>\",\"distinct\":true,\"url\":\"https://api.github.com/repos/Pandinosaurus/go/commits/cb65c8d58ac76abdaa6d14cc0742ca23d00ff524\"},{\"sha\":\"202aa085abfc2aa7f3095102b9d47c83e177fb84\",\"author\":{\"email\":\"cherryyz@google.com\",\"name\":\"Cherry Zhang\"},\"message\":\"runtime: use indexed load/store in ARM64 assembly\\\\n\\\\nMinor optimization. Spotted while working on that code.\\\\n\\\\nChange-Id: Ia02dee10d74bce79a0bef1eaba7fac1bfc27df38\\\\nReviewed-on: https://go-review.googlesource.com/c/go/+/266899\\\\nTrust: Cherry Zhang <cherryyz@google.com>\\\\nRun-TryBot: Cherry Zhang <cherryyz@google.com>\\\\nTryBot-Result: Go Bot <gobot@golang.org>\\\\nReviewed-by: fannie zhang <Fannie.Zhang@arm.com>\\\\nReviewed-by: David Chase <drchase@google.com>\",\"distinct\":true,\"url\":\"https://api.github.com/repos/Pandinosaurus/go/commits/202aa085abfc2aa7f3095102b9d47c83e177fb84\"},{\"sha\":\"33d9251530eb368850cc2066adab7c0cb380f052\",\"author\":{\"email\":\"bcmills@google.com\",\"name\":\"Bryan C. Mills\"},\"message\":\"all: update dependency on golang.org/x/sys and regenerate Windows syscalls\\\\n\\\\nSteps run:\\\\n\\\\n\\\\t$ cd $(go env GOROOT)/src\\\\n\\\\t$ go get -d golang.org/x/sys\\\\n\\\\t$ go mod tidy\\\\n\\\\t$ go mod vendor\\\\n\\\\t$ go generate syscall/... internal/syscall/...\\\\n\\\\t$ cd cmd\\\\n\\\\t$ go get -d golang.org/x/sys\\\\n\\\\t$ go mod tidy\\\\n\\\\t$ go mod vendor\\\\n\\\\t$ cd ..\\\\n\\\\t$ git add .\\\\n\\\\nThis change subsumes CL 260860.\\\\n\\\\nFor #36905\\\\n\\\\nChange-Id: I7c677c6aa1ad61b9cbd8cf9ed208ed5a30f29c87\\\\nReviewed-on: https://go-review.googlesource.com/c/go/+/267103\\\\nTrust: Bryan C. Mills <bcmills@google.com>\\\\nRun-TryBot: Bryan C. Mills <bcmills@google.com>\\\\nReviewed-by: Dmitri Shuralyov <dmitshur@golang.org>\\\\nTryBot-Result: Go Bot <gobot@golang.org>\",\"distinct\":true,\"url\":\"https://api.github.com/repos/Pandinosaurus/go/commits/33d9251530eb368850cc2066adab7c0cb380f052\"},{\"sha\":\"05e6d28849293266028c0bc9e9b0f8d0da38a2e2\",\"author\":{\"email\":\"austin@google.com\",\"name\":\"Austin Clements\"},\"message\":\"runtime: default to MADV_DONTNEED on Linux\\\\n\\\\nIn Go 1.12, we changed the runtime to use MADV_FREE when available on\\\\nLinux (falling back to MADV_DONTNEED) in CL 135395 to address issue\\\\n #23687. While MADV_FREE is somewhat faster than MADV_DONTNEED, it\\\\ndoesn\\'t affect many of the statistics that MADV_DONTNEED does until\\\\nthe memory is actually reclaimed under OS memory pressure. This\\\\ngenerally leads to poor user experience, like confusing stats in top\\\\nand other monitoring tools; and bad integration with management\\\\nsystems that respond to memory usage.\\\\n\\\\nWe\\'ve seen numerous issues about this user experience, including\\\\n #41818, #39295, #37585, #33376, and #30904, many questions on Go\\\\nmailing lists, and requests for mechanisms to change this behavior at\\\\nrun-time, such as #40870. There are also issues that may be a result\\\\nof this, but root-causing it can be difficult, such as #41444 and\\\\n #39174. And there\\'s some evidence it may even be incompatible with\\\\nAndroid\\'s process management in #37569.\\\\n\\\\nThis CL changes the default to prefer MADV_DONTNEED over MADV_FREE, to\\\\nfavor user-friendliness and minimal surprise over performance. I think\\\\nit\\'s become clear that Linux\\'s implementation of MADV_FREE ultimately\\\\ndoesn\\'t meet our needs. We\\'ve also made many improvements to the\\\\nscavenger since Go 1.12. In particular, it is now far more prompt and\\\\nit is self-paced, so it will simply trickle memory back to the system\\\\na little more slowly with this change. This can still be overridden by\\\\nsetting GODEBUG=madvdontneed=0.\\\\n\\\\nFixes #42330 (meta-issue).\\\\n\\\\nFixes #41818, #39295, #37585, #33376, #30904 (many of which were\\\\nalready closed as \\\\\"working as intended\\\\\").\\\\n\\\\nChange-Id: Ib6aa7f2dc8419b32516cc5a5fc402faf576c92e4\\\\nReviewed-on: https://go-review.googlesource.com/c/go/+/267100\\\\nTrust: Austin Clements <austin@google.com>\\\\nReviewed-by: Michael Knyszek <mknyszek@google.com>\",\"distinct\":true,\"url\":\"https://api.github.com/repos/Pandinosaurus/go/commits/05e6d28849293266028c0bc9e9b0f8d0da38a2e2\"}]},\"public\":true,\"created_at\":\"2020-11-02T17:29:56Z\"},{\"id\":\"14054705838\",\"type\":\"DeleteEvent\",\"actor\":{\"id\":961747,\"login\":\"kszucs\",\"display_login\":\"kszucs\",\"gravatar_id\":\"\",\"url\":\"https://api.github.com/users/kszucs\",\"avatar_url\":\"https://avatars.githubusercontent.com/u/961747?\"},\"repo\":{\"id\":134711184,\"name\":\"ursa-labs/crossbow\",\"url\":\"https://api.github.com/repos/ursa-labs/crossbow\"},\"payload\":{\"ref\":\"nightly-2020-04-19-0-github-test-ubuntu-16.04-cpp\",\"ref_type\":\"branch\",\"pusher_type\":\"user\"},\"public\":true,\"created_at\":\"2020-11-02T17:29:56Z\",\"org\":{\"id\":46514972,\"login\":\"ursa-labs\",\"gravatar_id\":\"\",\"url\":\"https://api.github.com/orgs/ursa-labs\",\"avatar_url\":\"https://avatars.githubusercontent.com/u/46514972?\"}},{\"id\":\"14054705829\",\"type\":\"PushEvent\",\"actor\":{\"id\":17030412,\"login\":\"minlaxz\",\"display_login\":\"minlaxz\",\"gravatar_id\":\"\",\"url\":\"https://api.github.com/users/minlaxz\",\"avatar_url\":\"https://avatars.githubusercontent.com/u/17030412?\"},\"repo\":{\"id\":299037730,\"name\":\"minlaxz/funny-wt\",\"url\":\"https://api.github.com/repos/minlaxz/funny-wt\"},\"payload\":{\"push_id\":5961126469,\"size\":1,\"distinct_size\":1,\"ref\":\"refs/heads/master\",\"head\":\"17b40e29a407cb980e32aad30e54932078d539df\",\"before\":\"2383540f99bb003422d26e372a19d363d7325ffb\",\"commits\":[{\"sha\":\"17b40e29a407cb980e32aad30e54932078d539df\",\"author\":{\"email\":\"minminlaxz@gmail.com\",\"name\":\"minlaxz\"},\"message\":\"Features\\\\n\\\\nRename default_popup for browser action.\",\"distinct\":true,\"url\":\"https://api.github.com/repos/minlaxz/funny-wt/commits/17b40e29a407cb980e32aad30e54932078d539df\"}]},\"public\":true,\"created_at\":\"2020-11-02T17:29:56Z\"},{\"id\":\"14054705819\",\"type\":\"PushEvent\",\"actor\":{\"id\":58833107,\"login\":\"pjtbkq381\",\"display_login\":\"pjtbkq381\",\"gravatar_id\":\"\",\"url\":\"https://api.github.com/users/pjtbkq381\",\"avatar_url\":\"https://avatars.githubusercontent.com/u/58833107?\"},\"repo\":{\"id\":227725053,\"name\":\"pjtbkq381/ntdtv\",\"url\":\"https://api.github.com/repos/pjtbkq381/ntdtv\"},\"payload\":{\"push_id\":5961126448,\"size\":1,\"distinct_size\":1,\"ref\":\"refs/heads/master\",\"head\":\"183ceb0d0c9a3886f4addeb1504bbdad359c8d32\",\"before\":\"bb27b15a08f535d91d5a1928136c7b44255e5cc6\",\"commits\":[{\"sha\":\"183ceb0d0c9a3886f4addeb1504bbdad359c8d32\",\"author\":{\"email\":\"58833107+pjtbkq381@users.noreply.github.com\",\"name\":\"pjtbkq381\"},\"message\":\"Update prog204_5.md\",\"distinct\":true,\"url\":\"https://api.github.com/repos/pjtbkq381/ntdtv/commits/183ceb0d0c9a3886f4addeb1504bbdad359c8d32\"}]},\"public\":true,\"created_at\":\"2020-11-02T17:29:56Z\"},{\"id\":\"14054705822\",\"type\":\"PushEvent\",\"actor\":{\"id\":24483153,\"login\":\"dangerousplay\",\"display_login\":\"dangerousplay\",\"gravatar_id\":\"\",\"url\":\"https://api.github.com/users/dangerousplay\",\"avatar_url\":\"https://avatars.githubusercontent.com/u/24483153?\"},\"repo\":{\"id\":299131989,\"name\":\"dangerousplay/blockchain-automation-framework\",\"url\":\"https://api.github.com/repos/dangerousplay/blockchain-automation-framework\"},\"payload\":{\"push_id\":5961126466,\"size\":1,\"distinct_size\":1,\"ref\":\"refs/heads/local\",\"head\":\"1ce34b858449aeb3cd1c8748a12c561c9c7db169\",\"before\":\"a4429cc9aaf58b12aa1f7bf53bdc501929d3f665\",\"commits\":[{\"sha\":\"1ce34b858449aeb3cd1c8748a12c561c9c7db169\",\"author\":{\"email\":\"gm.davi.gm@live.com\",\"name\":\"dangerousplay\"},\"message\":\"[ci skip] Pushing deployment files for namespace, service accounts and clusterrolebinding\\\\n\\\\nSigned-off-by: dangerousplay <gm.davi.gm@live.com>\",\"distinct\":true,\"url\":\"https://api.github.com/repos/dangerousplay/blockchain-automation-framework/commits/1ce34b858449aeb3cd1c8748a12c561c9c7db169\"}]},\"public\":true,\"created_at\":\"2020-11-02T17:29:56Z\"}]'"
      ]
     },
     "execution_count": 4,
     "metadata": {},
     "output_type": "execute_result"
    }
   ],
   "source": [
    "# So what does this look like?\n",
    "r.text"
   ]
  },
  {
   "cell_type": "markdown",
   "metadata": {},
   "source": [
    "![Oh good heavens gif, from gfycat](https://thumbs.gfycat.com/ColdAmbitiousDogwoodtwigborer-size_restricted.gif)"
   ]
  },
  {
   "cell_type": "markdown",
   "metadata": {
    "slideshow": {
     "slide_type": "slide"
    }
   },
   "source": [
    "Obviously you're never going to just scan that quickly for any data you need, we need to wrangle that response to make it usable.\n",
    "\n",
    "But first, let's look at some of the other attributes of `requests.models.Response` objects.\n",
    "\n",
    "We can check out all of the attributes [here](https://2.python-requests.org//en/v0.10.6/api/) in the documentation."
   ]
  },
  {
   "cell_type": "code",
   "execution_count": 5,
   "metadata": {},
   "outputs": [
    {
     "data": {
      "text/plain": [
       "{'server': 'GitHub.com', 'date': 'Mon, 02 Nov 2020 17:34:56 GMT', 'content-type': 'application/json; charset=utf-8', 'status': '200 OK', 'cache-control': 'public, max-age=60, s-maxage=60', 'vary': 'Accept, Accept-Encoding, Accept, X-Requested-With', 'etag': 'W/\"7a709aaed6962e8eabece9891a6af74fd9380d282009c0b711fea39c2120f15f\"', 'last-modified': 'Mon, 02 Nov 2020 17:29:56 GMT', 'x-poll-interval': '60', 'x-github-media-type': 'github.v3; format=json', 'link': '<https://api.github.com/events?page=2>; rel=\"next\", <https://api.github.com/events?page=10>; rel=\"last\"', 'access-control-expose-headers': 'ETag, Link, Location, Retry-After, X-GitHub-OTP, X-RateLimit-Limit, X-RateLimit-Remaining, X-RateLimit-Used, X-RateLimit-Reset, X-OAuth-Scopes, X-Accepted-OAuth-Scopes, X-Poll-Interval, X-GitHub-Media-Type, Deprecation, Sunset', 'access-control-allow-origin': '*', 'strict-transport-security': 'max-age=31536000; includeSubdomains; preload', 'x-frame-options': 'deny', 'x-content-type-options': 'nosniff', 'x-xss-protection': '1; mode=block', 'referrer-policy': 'origin-when-cross-origin, strict-origin-when-cross-origin', 'content-security-policy': \"default-src 'none'\", 'content-encoding': 'gzip', 'X-Ratelimit-Limit': '60', 'X-Ratelimit-Remaining': '57', 'X-Ratelimit-Reset': '1604340701', 'X-Ratelimit-Used': '3', 'Accept-Ranges': 'bytes', 'Transfer-Encoding': 'chunked', 'X-GitHub-Request-Id': 'C3D6:6C34:36A2F7:936443:5FA04340'}"
      ]
     },
     "execution_count": 5,
     "metadata": {},
     "output_type": "execute_result"
    }
   ],
   "source": [
    "# Headers - another attribute, what does this show us?\n",
    "r.headers\n"
   ]
  },
  {
   "cell_type": "markdown",
   "metadata": {
    "slideshow": {
     "slide_type": "slide"
    }
   },
   "source": [
    "### Checking out the status of your request"
   ]
  },
  {
   "cell_type": "code",
   "execution_count": 6,
   "metadata": {},
   "outputs": [
    {
     "data": {
      "text/plain": [
       "200"
      ]
     },
     "execution_count": 6,
     "metadata": {},
     "output_type": "execute_result"
    }
   ],
   "source": [
    "# Another attribute\n",
    "r.status_code"
   ]
  },
  {
   "cell_type": "markdown",
   "metadata": {
    "slideshow": {
     "slide_type": "slide"
    }
   },
   "source": [
    "### [Types of status codes](https://http.cat/)\n",
    "\n",
    "1xx - Informational responses\n",
    "\n",
    "2xx - Success\n",
    "- 200 OK\n",
    "- 201 Created\n",
    "- 204 No Content\n",
    "\n",
    "3xx - Redirection\n",
    "\n",
    "- 301 Moved Permanently (permanent URL redirection)\n",
    "- 304 Not Modified (A conditional GET or HEAD request has been received and would have resulted in a 200 OK response if it were not for the fact that the condition evaluated to false.)\n",
    "\n",
    "4xx - Client errors\n",
    "\n",
    "- 400 Bad Request\n",
    "- 401 Unauthorized\n",
    "- 403 Forbidden\n",
    "- 404 Not Found\n",
    "\n",
    "5xx - Server errors\n",
    "\n",
    "- 500 Internal Server Error"
   ]
  },
  {
   "cell_type": "code",
   "execution_count": 7,
   "metadata": {
    "slideshow": {
     "slide_type": "slide"
    }
   },
   "outputs": [
    {
     "data": {
      "text/plain": [
       "404"
      ]
     },
     "execution_count": 7,
     "metadata": {},
     "output_type": "execute_result"
    }
   ],
   "source": [
    "# Get status code for a \"broken\" link\n",
    "\n",
    "r_broken = requests.get('https://api.github.com/fake-ending')\n",
    "r_broken.status_code"
   ]
  },
  {
   "cell_type": "markdown",
   "metadata": {
    "slideshow": {
     "slide_type": "slide"
    }
   },
   "source": [
    "Can also explictly ask for the returned format to be json as a method."
   ]
  },
  {
   "cell_type": "code",
   "execution_count": 8,
   "metadata": {},
   "outputs": [
    {
     "data": {
      "text/plain": [
       "dict_keys(['id', 'type', 'actor', 'repo', 'payload', 'public', 'created_at'])"
      ]
     },
     "execution_count": 8,
     "metadata": {},
     "output_type": "execute_result"
    }
   ],
   "source": [
    "# Going back to our working request - how does this look, compared to text?\n",
    "r.json()[0].keys()"
   ]
  },
  {
   "cell_type": "markdown",
   "metadata": {
    "slideshow": {
     "slide_type": "slide"
    }
   },
   "source": [
    "#### A note on errors and exceptions with the Requests library\n",
    "\n",
    "There are a number of exceptions and error codes you need to be familiar with when using the Requests library in Python.\n",
    "\n",
    "- The Requests library will raise a ConnectionError exception if there is a network problem like a DNS failure, or refused connection\n",
    "- These are rare, but with invalid HTTP responses, Requests will also raise an HTTPError exception\n",
    "- A Timeout exception will be raised if a request times out\n",
    "- If and when a request exceeds the preconfigured number of maximum redirections, then a TooManyRedirects exception will be raised"
   ]
  },
  {
   "cell_type": "markdown",
   "metadata": {},
   "source": [
    "## Another Way to Deal with APIs\n",
    "\n",
    "Check out [Postman](https://www.getpostman.com/)."
   ]
  },
  {
   "cell_type": "markdown",
   "metadata": {},
   "source": [
    "# Gotta Catch 'Em All! Using the Pokemon API\n",
    "\n",
    "https://pokeapi.co/\n",
    "\n",
    "Nice place to start because there's no login details or credentials to fuss with\n",
    "\n",
    "For now, just want to explore grabbing the Types of different Pokemon.\n",
    "\n",
    "Useful documentation links:\n",
    "- Pokemon endpoint: https://pokeapi.co/docs/v2#pokemon \n",
    "    - `https://pokeapi.co/api/v2/pokemon/{id or name}/`\n",
    "- Type endpoint: https://pokeapi.co/docs/v2#types\n",
    "    - `https://pokeapi.co/api/v2/type/{id or name}/`"
   ]
  },
  {
   "cell_type": "markdown",
   "metadata": {},
   "source": [
    "### Start by exploring the response from the Pokemon endpoint\n",
    "\n",
    "Going to start with Charmander, pokemon #4, cause he's one of my favorites\n",
    "\n",
    "<img src=\"https://i.pinimg.com/originals/e7/0e/d0/e70ed0b54f9230c56c2e3bd2958d68a4.jpg\" alt=\"adorable charmander found via pinterest\" width=150>\n",
    "\n",
    "[Image Source](https://www.pinterest.com/pin/419045940312305352/)"
   ]
  },
  {
   "cell_type": "code",
   "execution_count": 9,
   "metadata": {},
   "outputs": [],
   "source": [
    "# First, what endpoint url are we using?\n",
    "base_poke_url = \"https://pokeapi.co/api/v2/pokemon/\""
   ]
  },
  {
   "cell_type": "code",
   "execution_count": 10,
   "metadata": {},
   "outputs": [],
   "source": [
    "# How does that need to adapt for charmander?\n",
    "char_id = 4\n",
    "char_url = f\"{base_poke_url}{char_id}\""
   ]
  },
  {
   "cell_type": "code",
   "execution_count": 11,
   "metadata": {},
   "outputs": [
    {
     "name": "stdout",
     "output_type": "stream",
     "text": [
      "https://pokeapi.co/api/v2/pokemon/4\n"
     ]
    },
    {
     "data": {
      "text/plain": [
       "200"
      ]
     },
     "execution_count": 11,
     "metadata": {},
     "output_type": "execute_result"
    }
   ],
   "source": [
    "# Check the status code, will this work?\n",
    "print(char_url)\n",
    "requests.get(char_url).status_code"
   ]
  },
  {
   "cell_type": "code",
   "execution_count": 12,
   "metadata": {},
   "outputs": [],
   "source": [
    "# Now let's actually get the response\n",
    "char_resp = requests.get(char_url)"
   ]
  },
  {
   "cell_type": "code",
   "execution_count": 13,
   "metadata": {},
   "outputs": [],
   "source": [
    "# Let's check out some details about the response\n",
    "char_resps = char_resp.json()"
   ]
  },
  {
   "cell_type": "code",
   "execution_count": 14,
   "metadata": {},
   "outputs": [
    {
     "data": {
      "text/plain": [
       "dict_keys(['abilities', 'base_experience', 'forms', 'game_indices', 'height', 'held_items', 'id', 'is_default', 'location_area_encounters', 'moves', 'name', 'order', 'species', 'sprites', 'stats', 'types', 'weight'])"
      ]
     },
     "execution_count": 14,
     "metadata": {},
     "output_type": "execute_result"
    }
   ],
   "source": [
    "char_resps.keys()"
   ]
  },
  {
   "cell_type": "code",
   "execution_count": 15,
   "metadata": {},
   "outputs": [
    {
     "data": {
      "text/plain": [
       "'charmander'"
      ]
     },
     "execution_count": 15,
     "metadata": {},
     "output_type": "execute_result"
    }
   ],
   "source": [
    "char_resps['name']"
   ]
  },
  {
   "cell_type": "code",
   "execution_count": 16,
   "metadata": {},
   "outputs": [
    {
     "data": {
      "text/plain": [
       "[{'slot': 1,\n",
       "  'type': {'name': 'fire', 'url': 'https://pokeapi.co/api/v2/type/10/'}}]"
      ]
     },
     "execution_count": 16,
     "metadata": {},
     "output_type": "execute_result"
    }
   ],
   "source": [
    "char_resps['types']"
   ]
  },
  {
   "cell_type": "code",
   "execution_count": 17,
   "metadata": {},
   "outputs": [],
   "source": [
    "gre_url = f\"{base_poke_url}greninja\""
   ]
  },
  {
   "cell_type": "code",
   "execution_count": 18,
   "metadata": {},
   "outputs": [],
   "source": [
    "gre_resp = requests.get(gre_url).json()"
   ]
  },
  {
   "cell_type": "code",
   "execution_count": 19,
   "metadata": {},
   "outputs": [
    {
     "data": {
      "text/plain": [
       "658"
      ]
     },
     "execution_count": 19,
     "metadata": {},
     "output_type": "execute_result"
    }
   ],
   "source": [
    "gre_resp['id']"
   ]
  },
  {
   "cell_type": "markdown",
   "metadata": {},
   "source": [
    "#### Challenge!\n",
    "\n",
    "Let's write a function that, given a response from this API's pokemon endpoint, returns a list of the ID, name, primary type and secondary type for that pokemon."
   ]
  },
  {
   "cell_type": "code",
   "execution_count": null,
   "metadata": {},
   "outputs": [],
   "source": []
  },
  {
   "cell_type": "code",
   "execution_count": 20,
   "metadata": {},
   "outputs": [],
   "source": [
    "def get_pokemon_details(poke_resp):\n",
    "    '''\n",
    "    inputs:\n",
    "    poke_resp - expects json/dict\n",
    "    \n",
    "    outputs: \n",
    "    list of id, pokemon name, primary type and secondary type \n",
    "    '''\n",
    "    poke_id = poke_resp['id']\n",
    "    \n",
    "    poke_name = poke_resp['name']\n",
    "    \n",
    "    primary_type = poke_resp['types'][0]['type']['name']\n",
    "    \n",
    "    if len(poke_resp['types']) == 2:\n",
    "        secondary_type = poke_resp['types'][1]['type']['name']\n",
    "    else:\n",
    "        secondary_type = 'none'\n",
    "    return [poke_id, poke_name, primary_type, secondary_type]\n"
   ]
  },
  {
   "cell_type": "code",
   "execution_count": 21,
   "metadata": {},
   "outputs": [],
   "source": [
    "# Let's test our function on the 3 original starter pokemon\n",
    "original_starters = list(range(1, 8, 3))"
   ]
  },
  {
   "cell_type": "code",
   "execution_count": null,
   "metadata": {},
   "outputs": [],
   "source": []
  },
  {
   "cell_type": "code",
   "execution_count": 22,
   "metadata": {},
   "outputs": [
    {
     "name": "stdout",
     "output_type": "stream",
     "text": [
      "[1, 'bulbasaur', 'grass', 'poison']\n",
      "[4, 'charmander', 'fire', 'none']\n",
      "[7, 'squirtle', 'water', 'none']\n"
     ]
    }
   ],
   "source": [
    "for poke_id in original_starters:\n",
    "    poke_url = f\"{base_poke_url}{poke_id}\"\n",
    "    poke_resp = requests.get(poke_url).json()\n",
    "    print(get_pokemon_details(poke_resp))"
   ]
  },
  {
   "cell_type": "markdown",
   "metadata": {},
   "source": [
    "### Moving to Pandas\n",
    "\n",
    "Let's get all of these details for all of the original 151 pokemon! And save them to a Pandas dataframe."
   ]
  },
  {
   "cell_type": "code",
   "execution_count": 23,
   "metadata": {},
   "outputs": [],
   "source": [
    "# Need to import pandas\n",
    "import pandas as pd"
   ]
  },
  {
   "cell_type": "code",
   "execution_count": 24,
   "metadata": {},
   "outputs": [],
   "source": [
    "# Let's go ahead and define what our columns will be\n",
    "col_names = ['id', 'name', 'primary_type', 'secondary_type']"
   ]
  },
  {
   "cell_type": "code",
   "execution_count": 25,
   "metadata": {},
   "outputs": [],
   "source": [
    "# Define a list of our 151 pokemon ids\n",
    "original_151 = list(range(1,152))"
   ]
  },
  {
   "cell_type": "markdown",
   "metadata": {},
   "source": [
    "So we're going to make 151 requests... don't want to overload the API endpoint! So let's use the time library to space out our requests."
   ]
  },
  {
   "cell_type": "code",
   "execution_count": 26,
   "metadata": {},
   "outputs": [],
   "source": [
    "import time"
   ]
  },
  {
   "cell_type": "code",
   "execution_count": 27,
   "metadata": {},
   "outputs": [],
   "source": [
    "# Easiest way to do this will be to have a list of lists, then concat them all\n",
    "\n",
    "# Define a blank list to capture all the pokemon details\n",
    "row_list = []\n",
    "# And then loop over our pokemon ids!\n",
    "for poke_id in original_151:\n",
    "    poke_url = f\"{base_poke_url}{poke_id}\"\n",
    "    poke_resp = requests.get(poke_url).json()\n",
    "    poke_row = get_pokemon_details(poke_resp)\n",
    "    row_list.append(poke_row)\n",
    "    time.sleep(.5)\n",
    "    \n",
    "    \n",
    "# Then, concat everything into one df\n",
    "# Reference: https://pandas.pydata.org/pandas-docs/stable/reference/api/pandas.DataFrame.append.html\n"
   ]
  },
  {
   "cell_type": "code",
   "execution_count": 28,
   "metadata": {},
   "outputs": [],
   "source": [
    "poke_df = pd.concat([pd.DataFrame([i], columns=col_names) for i in row_list],\n",
    "                   ignore_index=True)"
   ]
  },
  {
   "cell_type": "code",
   "execution_count": 29,
   "metadata": {},
   "outputs": [
    {
     "data": {
      "text/html": [
       "<div>\n",
       "<style scoped>\n",
       "    .dataframe tbody tr th:only-of-type {\n",
       "        vertical-align: middle;\n",
       "    }\n",
       "\n",
       "    .dataframe tbody tr th {\n",
       "        vertical-align: top;\n",
       "    }\n",
       "\n",
       "    .dataframe thead th {\n",
       "        text-align: right;\n",
       "    }\n",
       "</style>\n",
       "<table border=\"1\" class=\"dataframe\">\n",
       "  <thead>\n",
       "    <tr style=\"text-align: right;\">\n",
       "      <th></th>\n",
       "      <th>id</th>\n",
       "      <th>name</th>\n",
       "      <th>primary_type</th>\n",
       "      <th>secondary_type</th>\n",
       "    </tr>\n",
       "  </thead>\n",
       "  <tbody>\n",
       "    <tr>\n",
       "      <th>0</th>\n",
       "      <td>1</td>\n",
       "      <td>bulbasaur</td>\n",
       "      <td>grass</td>\n",
       "      <td>poison</td>\n",
       "    </tr>\n",
       "    <tr>\n",
       "      <th>1</th>\n",
       "      <td>2</td>\n",
       "      <td>ivysaur</td>\n",
       "      <td>grass</td>\n",
       "      <td>poison</td>\n",
       "    </tr>\n",
       "    <tr>\n",
       "      <th>2</th>\n",
       "      <td>3</td>\n",
       "      <td>venusaur</td>\n",
       "      <td>grass</td>\n",
       "      <td>poison</td>\n",
       "    </tr>\n",
       "    <tr>\n",
       "      <th>3</th>\n",
       "      <td>4</td>\n",
       "      <td>charmander</td>\n",
       "      <td>fire</td>\n",
       "      <td>none</td>\n",
       "    </tr>\n",
       "    <tr>\n",
       "      <th>4</th>\n",
       "      <td>5</td>\n",
       "      <td>charmeleon</td>\n",
       "      <td>fire</td>\n",
       "      <td>none</td>\n",
       "    </tr>\n",
       "    <tr>\n",
       "      <th>...</th>\n",
       "      <td>...</td>\n",
       "      <td>...</td>\n",
       "      <td>...</td>\n",
       "      <td>...</td>\n",
       "    </tr>\n",
       "    <tr>\n",
       "      <th>146</th>\n",
       "      <td>147</td>\n",
       "      <td>dratini</td>\n",
       "      <td>dragon</td>\n",
       "      <td>none</td>\n",
       "    </tr>\n",
       "    <tr>\n",
       "      <th>147</th>\n",
       "      <td>148</td>\n",
       "      <td>dragonair</td>\n",
       "      <td>dragon</td>\n",
       "      <td>none</td>\n",
       "    </tr>\n",
       "    <tr>\n",
       "      <th>148</th>\n",
       "      <td>149</td>\n",
       "      <td>dragonite</td>\n",
       "      <td>dragon</td>\n",
       "      <td>flying</td>\n",
       "    </tr>\n",
       "    <tr>\n",
       "      <th>149</th>\n",
       "      <td>150</td>\n",
       "      <td>mewtwo</td>\n",
       "      <td>psychic</td>\n",
       "      <td>none</td>\n",
       "    </tr>\n",
       "    <tr>\n",
       "      <th>150</th>\n",
       "      <td>151</td>\n",
       "      <td>mew</td>\n",
       "      <td>psychic</td>\n",
       "      <td>none</td>\n",
       "    </tr>\n",
       "  </tbody>\n",
       "</table>\n",
       "<p>151 rows × 4 columns</p>\n",
       "</div>"
      ],
      "text/plain": [
       "      id        name primary_type secondary_type\n",
       "0      1   bulbasaur        grass         poison\n",
       "1      2     ivysaur        grass         poison\n",
       "2      3    venusaur        grass         poison\n",
       "3      4  charmander         fire           none\n",
       "4      5  charmeleon         fire           none\n",
       "..   ...         ...          ...            ...\n",
       "146  147     dratini       dragon           none\n",
       "147  148   dragonair       dragon           none\n",
       "148  149   dragonite       dragon         flying\n",
       "149  150      mewtwo      psychic           none\n",
       "150  151         mew      psychic           none\n",
       "\n",
       "[151 rows x 4 columns]"
      ]
     },
     "execution_count": 29,
     "metadata": {},
     "output_type": "execute_result"
    }
   ],
   "source": [
    "poke_df"
   ]
  },
  {
   "cell_type": "code",
   "execution_count": 30,
   "metadata": {},
   "outputs": [
    {
     "data": {
      "text/plain": [
       "primary_type\n",
       "water       28\n",
       "normal      22\n",
       "poison      14\n",
       "grass       12\n",
       "fire        12\n",
       "bug         12\n",
       "rock         9\n",
       "electric     9\n",
       "psychic      8\n",
       "ground       8\n",
       "fighting     7\n",
       "ghost        3\n",
       "dragon       3\n",
       "ice          2\n",
       "fairy        2\n",
       "Name: id, dtype: int64"
      ]
     },
     "execution_count": 30,
     "metadata": {},
     "output_type": "execute_result"
    }
   ],
   "source": [
    "prim_type_count = poke_df.groupby('primary_type').count()['id']\n",
    "\n",
    "prim_type_count = prim_type_count.sort_values(ascending=False)\n",
    "prim_type_count"
   ]
  },
  {
   "cell_type": "code",
   "execution_count": 36,
   "metadata": {
    "scrolled": true
   },
   "outputs": [
    {
     "data": {
      "text/plain": [
       "([0, 1, 2, 3, 4, 5, 6, 7, 8, 9, 10, 11, 12, 13, 14],\n",
       " <a list of 15 Text xticklabel objects>)"
      ]
     },
     "execution_count": 36,
     "metadata": {},
     "output_type": "execute_result"
    },
    {
     "data": {
      "image/png": "[encoded data removed]",
      "text/plain": [
       "<Figure size 720x720 with 1 Axes>"
      ]
     },
     "metadata": {
      "needs_background": "light"
     },
     "output_type": "display_data"
    }
   ],
   "source": [
    "# visualize it!\n",
    "import matplotlib.pyplot as plt\n",
    "\n",
    "# Let's plot a bar graph of our primary types\n",
    "plt.figure(figsize=(10,10))\n",
    "plt.bar(prim_type_count.index, prim_type_count)\n",
    "plt.xticks(rotation=70)"
   ]
  },
  {
   "cell_type": "code",
   "execution_count": 32,
   "metadata": {},
   "outputs": [
    {
     "data": {
      "text/plain": [
       "<BarContainer object of 15 artists>"
      ]
     },
     "execution_count": 32,
     "metadata": {},
     "output_type": "execute_result"
    },
    {
     "data": {
      "image/png": "[encoded data removed]",
      "text/plain": [
       "<Figure size 432x288 with 1 Axes>"
      ]
     },
     "metadata": {
      "needs_background": "light"
     },
     "output_type": "display_data"
    }
   ],
   "source": [
    "plt.bar(prim_type_count.index, prim_type_count)"
   ]
  },
  {
   "cell_type": "markdown",
   "metadata": {},
   "source": [
    "![monty python gif - and now for something completely different, from giphy](https://media.giphy.com/media/xznyPebL28X5u/giphy.gif)"
   ]
  },
  {
   "cell_type": "markdown",
   "metadata": {},
   "source": [
    "# Movie Time!\n",
    "\n",
    "Let's practice with an API that actually requires some authorization, in the form of an API Key!"
   ]
  },
  {
   "cell_type": "markdown",
   "metadata": {},
   "source": [
    "# **NEVER EVER PUT YOUR API KEY ON GITHUB**\n",
    "\n",
    "Either create a json file with API keys in a different directory, or create a python file with the key saved as a variable that you can call. (There are even more options than that, but these are two easily-accessible ones)"
   ]
  },
  {
   "cell_type": "code",
   "execution_count": 40,
   "metadata": {},
   "outputs": [
    {
     "ename": "JSONDecodeError",
     "evalue": "Expecting property name enclosed in double quotes: line 1 column 2 (char 1)",
     "output_type": "error",
     "traceback": [
      "\u001b[0;31m---------------------------------------------------------------------------\u001b[0m",
      "\u001b[0;31mJSONDecodeError\u001b[0m                           Traceback (most recent call last)",
      "\u001b[0;32m<ipython-input-40-2acd9fd2f29b>\u001b[0m in \u001b[0;36m<module>\u001b[0;34m()\u001b[0m\n\u001b[1;32m     10\u001b[0m \u001b[0;34m\u001b[0m\u001b[0m\n\u001b[1;32m     11\u001b[0m \u001b[0;31m# Using the function to open and load all keys in that file\u001b[0m\u001b[0;34m\u001b[0m\u001b[0;34m\u001b[0m\u001b[0;34m\u001b[0m\u001b[0m\n\u001b[0;32m---> 12\u001b[0;31m \u001b[0mapi_keys\u001b[0m \u001b[0;34m=\u001b[0m \u001b[0mget_keys\u001b[0m\u001b[0;34m(\u001b[0m\u001b[0;34m\"/Users/matthewnykaza/secrets/api.json\"\u001b[0m\u001b[0;34m)\u001b[0m\u001b[0;34m\u001b[0m\u001b[0;34m\u001b[0m\u001b[0m\n\u001b[0m\u001b[1;32m     13\u001b[0m \u001b[0;34m\u001b[0m\u001b[0m\n\u001b[1;32m     14\u001b[0m \u001b[0;31m# Setting the first (and only) value as a variable\u001b[0m\u001b[0;34m\u001b[0m\u001b[0;34m\u001b[0m\u001b[0;34m\u001b[0m\u001b[0m\n",
      "\u001b[0;32m<ipython-input-40-2acd9fd2f29b>\u001b[0m in \u001b[0;36mget_keys\u001b[0;34m(path)\u001b[0m\n\u001b[1;32m      7\u001b[0m \u001b[0;32mdef\u001b[0m \u001b[0mget_keys\u001b[0m\u001b[0;34m(\u001b[0m\u001b[0mpath\u001b[0m\u001b[0;34m)\u001b[0m\u001b[0;34m:\u001b[0m\u001b[0;34m\u001b[0m\u001b[0;34m\u001b[0m\u001b[0m\n\u001b[1;32m      8\u001b[0m     \u001b[0;32mwith\u001b[0m \u001b[0mopen\u001b[0m\u001b[0;34m(\u001b[0m\u001b[0mpath\u001b[0m\u001b[0;34m)\u001b[0m \u001b[0;32mas\u001b[0m \u001b[0mf\u001b[0m\u001b[0;34m:\u001b[0m\u001b[0;34m\u001b[0m\u001b[0;34m\u001b[0m\u001b[0m\n\u001b[0;32m----> 9\u001b[0;31m         \u001b[0;32mreturn\u001b[0m \u001b[0mjson\u001b[0m\u001b[0;34m.\u001b[0m\u001b[0mload\u001b[0m\u001b[0;34m(\u001b[0m\u001b[0mf\u001b[0m\u001b[0;34m)\u001b[0m\u001b[0;34m\u001b[0m\u001b[0;34m\u001b[0m\u001b[0m\n\u001b[0m\u001b[1;32m     10\u001b[0m \u001b[0;34m\u001b[0m\u001b[0m\n\u001b[1;32m     11\u001b[0m \u001b[0;31m# Using the function to open and load all keys in that file\u001b[0m\u001b[0;34m\u001b[0m\u001b[0;34m\u001b[0m\u001b[0;34m\u001b[0m\u001b[0m\n",
      "\u001b[0;32m/Users/matthewnykaza/opt/anaconda3/envs/learn-env/lib/python3.6/json/__init__.py\u001b[0m in \u001b[0;36mload\u001b[0;34m(fp, cls, object_hook, parse_float, parse_int, parse_constant, object_pairs_hook, **kw)\u001b[0m\n\u001b[1;32m    297\u001b[0m         \u001b[0mcls\u001b[0m\u001b[0;34m=\u001b[0m\u001b[0mcls\u001b[0m\u001b[0;34m,\u001b[0m \u001b[0mobject_hook\u001b[0m\u001b[0;34m=\u001b[0m\u001b[0mobject_hook\u001b[0m\u001b[0;34m,\u001b[0m\u001b[0;34m\u001b[0m\u001b[0;34m\u001b[0m\u001b[0m\n\u001b[1;32m    298\u001b[0m         \u001b[0mparse_float\u001b[0m\u001b[0;34m=\u001b[0m\u001b[0mparse_float\u001b[0m\u001b[0;34m,\u001b[0m \u001b[0mparse_int\u001b[0m\u001b[0;34m=\u001b[0m\u001b[0mparse_int\u001b[0m\u001b[0;34m,\u001b[0m\u001b[0;34m\u001b[0m\u001b[0;34m\u001b[0m\u001b[0m\n\u001b[0;32m--> 299\u001b[0;31m         parse_constant=parse_constant, object_pairs_hook=object_pairs_hook, **kw)\n\u001b[0m\u001b[1;32m    300\u001b[0m \u001b[0;34m\u001b[0m\u001b[0m\n\u001b[1;32m    301\u001b[0m \u001b[0;34m\u001b[0m\u001b[0m\n",
      "\u001b[0;32m/Users/matthewnykaza/opt/anaconda3/envs/learn-env/lib/python3.6/json/__init__.py\u001b[0m in \u001b[0;36mloads\u001b[0;34m(s, encoding, cls, object_hook, parse_float, parse_int, parse_constant, object_pairs_hook, **kw)\u001b[0m\n\u001b[1;32m    352\u001b[0m             \u001b[0mparse_int\u001b[0m \u001b[0;32mis\u001b[0m \u001b[0;32mNone\u001b[0m \u001b[0;32mand\u001b[0m \u001b[0mparse_float\u001b[0m \u001b[0;32mis\u001b[0m \u001b[0;32mNone\u001b[0m \u001b[0;32mand\u001b[0m\u001b[0;34m\u001b[0m\u001b[0;34m\u001b[0m\u001b[0m\n\u001b[1;32m    353\u001b[0m             parse_constant is None and object_pairs_hook is None and not kw):\n\u001b[0;32m--> 354\u001b[0;31m         \u001b[0;32mreturn\u001b[0m \u001b[0m_default_decoder\u001b[0m\u001b[0;34m.\u001b[0m\u001b[0mdecode\u001b[0m\u001b[0;34m(\u001b[0m\u001b[0ms\u001b[0m\u001b[0;34m)\u001b[0m\u001b[0;34m\u001b[0m\u001b[0;34m\u001b[0m\u001b[0m\n\u001b[0m\u001b[1;32m    355\u001b[0m     \u001b[0;32mif\u001b[0m \u001b[0mcls\u001b[0m \u001b[0;32mis\u001b[0m \u001b[0;32mNone\u001b[0m\u001b[0;34m:\u001b[0m\u001b[0;34m\u001b[0m\u001b[0;34m\u001b[0m\u001b[0m\n\u001b[1;32m    356\u001b[0m         \u001b[0mcls\u001b[0m \u001b[0;34m=\u001b[0m \u001b[0mJSONDecoder\u001b[0m\u001b[0;34m\u001b[0m\u001b[0;34m\u001b[0m\u001b[0m\n",
      "\u001b[0;32m/Users/matthewnykaza/opt/anaconda3/envs/learn-env/lib/python3.6/json/decoder.py\u001b[0m in \u001b[0;36mdecode\u001b[0;34m(self, s, _w)\u001b[0m\n\u001b[1;32m    337\u001b[0m \u001b[0;34m\u001b[0m\u001b[0m\n\u001b[1;32m    338\u001b[0m         \"\"\"\n\u001b[0;32m--> 339\u001b[0;31m         \u001b[0mobj\u001b[0m\u001b[0;34m,\u001b[0m \u001b[0mend\u001b[0m \u001b[0;34m=\u001b[0m \u001b[0mself\u001b[0m\u001b[0;34m.\u001b[0m\u001b[0mraw_decode\u001b[0m\u001b[0;34m(\u001b[0m\u001b[0ms\u001b[0m\u001b[0;34m,\u001b[0m \u001b[0midx\u001b[0m\u001b[0;34m=\u001b[0m\u001b[0m_w\u001b[0m\u001b[0;34m(\u001b[0m\u001b[0ms\u001b[0m\u001b[0;34m,\u001b[0m \u001b[0;36m0\u001b[0m\u001b[0;34m)\u001b[0m\u001b[0;34m.\u001b[0m\u001b[0mend\u001b[0m\u001b[0;34m(\u001b[0m\u001b[0;34m)\u001b[0m\u001b[0;34m)\u001b[0m\u001b[0;34m\u001b[0m\u001b[0;34m\u001b[0m\u001b[0m\n\u001b[0m\u001b[1;32m    340\u001b[0m         \u001b[0mend\u001b[0m \u001b[0;34m=\u001b[0m \u001b[0m_w\u001b[0m\u001b[0;34m(\u001b[0m\u001b[0ms\u001b[0m\u001b[0;34m,\u001b[0m \u001b[0mend\u001b[0m\u001b[0;34m)\u001b[0m\u001b[0;34m.\u001b[0m\u001b[0mend\u001b[0m\u001b[0;34m(\u001b[0m\u001b[0;34m)\u001b[0m\u001b[0;34m\u001b[0m\u001b[0;34m\u001b[0m\u001b[0m\n\u001b[1;32m    341\u001b[0m         \u001b[0;32mif\u001b[0m \u001b[0mend\u001b[0m \u001b[0;34m!=\u001b[0m \u001b[0mlen\u001b[0m\u001b[0;34m(\u001b[0m\u001b[0ms\u001b[0m\u001b[0;34m)\u001b[0m\u001b[0;34m:\u001b[0m\u001b[0;34m\u001b[0m\u001b[0;34m\u001b[0m\u001b[0m\n",
      "\u001b[0;32m/Users/matthewnykaza/opt/anaconda3/envs/learn-env/lib/python3.6/json/decoder.py\u001b[0m in \u001b[0;36mraw_decode\u001b[0;34m(self, s, idx)\u001b[0m\n\u001b[1;32m    353\u001b[0m         \"\"\"\n\u001b[1;32m    354\u001b[0m         \u001b[0;32mtry\u001b[0m\u001b[0;34m:\u001b[0m\u001b[0;34m\u001b[0m\u001b[0;34m\u001b[0m\u001b[0m\n\u001b[0;32m--> 355\u001b[0;31m             \u001b[0mobj\u001b[0m\u001b[0;34m,\u001b[0m \u001b[0mend\u001b[0m \u001b[0;34m=\u001b[0m \u001b[0mself\u001b[0m\u001b[0;34m.\u001b[0m\u001b[0mscan_once\u001b[0m\u001b[0;34m(\u001b[0m\u001b[0ms\u001b[0m\u001b[0;34m,\u001b[0m \u001b[0midx\u001b[0m\u001b[0;34m)\u001b[0m\u001b[0;34m\u001b[0m\u001b[0;34m\u001b[0m\u001b[0m\n\u001b[0m\u001b[1;32m    356\u001b[0m         \u001b[0;32mexcept\u001b[0m \u001b[0mStopIteration\u001b[0m \u001b[0;32mas\u001b[0m \u001b[0merr\u001b[0m\u001b[0;34m:\u001b[0m\u001b[0;34m\u001b[0m\u001b[0;34m\u001b[0m\u001b[0m\n\u001b[1;32m    357\u001b[0m             \u001b[0;32mraise\u001b[0m \u001b[0mJSONDecodeError\u001b[0m\u001b[0;34m(\u001b[0m\u001b[0;34m\"Expecting value\"\u001b[0m\u001b[0;34m,\u001b[0m \u001b[0ms\u001b[0m\u001b[0;34m,\u001b[0m \u001b[0merr\u001b[0m\u001b[0;34m.\u001b[0m\u001b[0mvalue\u001b[0m\u001b[0;34m)\u001b[0m \u001b[0;32mfrom\u001b[0m \u001b[0;32mNone\u001b[0m\u001b[0;34m\u001b[0m\u001b[0;34m\u001b[0m\u001b[0m\n",
      "\u001b[0;31mJSONDecodeError\u001b[0m: Expecting property name enclosed in double quotes: line 1 column 2 (char 1)"
     ]
    }
   ],
   "source": [
    "# Option 1: use a json file saved to some other folder outside your Git repo\n",
    "\n",
    "# Need to import json to do this\n",
    "import json\n",
    "\n",
    "# Define a function to open the json\n",
    "def get_keys(path):\n",
    "    with open(path) as f:\n",
    "        return json.load(f)\n",
    "\n",
    "# Using the function to open and load all keys in that file \n",
    "api_keys = get_keys(\"/Users/matthewnykaza/secrets/api.json\")\n",
    "\n",
    "# Setting the first (and only) value as a variable\n",
    "tmdb_key_1 = api_keys['tmdb_key']"
   ]
  },
  {
   "cell_type": "code",
   "execution_count": 39,
   "metadata": {},
   "outputs": [
    {
     "ename": "ModuleNotFoundError",
     "evalue": "No module named 'keys'",
     "output_type": "error",
     "traceback": [
      "\u001b[0;31m---------------------------------------------------------------------------\u001b[0m",
      "\u001b[0;31mModuleNotFoundError\u001b[0m                       Traceback (most recent call last)",
      "\u001b[0;32m<ipython-input-39-1c94329bc6bf>\u001b[0m in \u001b[0;36m<module>\u001b[0;34m()\u001b[0m\n\u001b[1;32m      5\u001b[0m \u001b[0;31m# tmdb_api_key = \"[key]\"\u001b[0m\u001b[0;34m\u001b[0m\u001b[0;34m\u001b[0m\u001b[0;34m\u001b[0m\u001b[0m\n\u001b[1;32m      6\u001b[0m \u001b[0;34m\u001b[0m\u001b[0m\n\u001b[0;32m----> 7\u001b[0;31m \u001b[0;32mfrom\u001b[0m \u001b[0mkeys\u001b[0m \u001b[0;32mimport\u001b[0m \u001b[0mtmdb_api_key\u001b[0m\u001b[0;34m\u001b[0m\u001b[0;34m\u001b[0m\u001b[0m\n\u001b[0m\u001b[1;32m      8\u001b[0m \u001b[0;34m\u001b[0m\u001b[0m\n\u001b[1;32m      9\u001b[0m \u001b[0mtmdb_key_2\u001b[0m \u001b[0;34m=\u001b[0m \u001b[0mtmdb_api_key\u001b[0m\u001b[0;34m\u001b[0m\u001b[0;34m\u001b[0m\u001b[0m\n",
      "\u001b[0;31mModuleNotFoundError\u001b[0m: No module named 'keys'"
     ]
    }
   ],
   "source": [
    "# Option 2: use a python file that's been added to your .gitignore\n",
    "\n",
    "# Let's do this together! In a new terminal window,\n",
    "# Create a file called keys.py in this repo, and I'll save my api key as\n",
    "# tmdb_api_key = \"[key]\"\n",
    "\n",
    "from keys import tmdb_api_key\n",
    "\n",
    "tmdb_key_2 = tmdb_api_key\n",
    "\n",
    "# Then let's edit our .gitignore file together"
   ]
  },
  {
   "cell_type": "markdown",
   "metadata": {},
   "source": [
    "Just as important! You may want to call the variable you've set to check that the API key is rendering correctly - but **be sure to clear the output of that cell** or else the output will show your key! And then if you push to GitHub it'll push that output to the internet which defeats the whole point of saving your key elsewhere!"
   ]
  },
  {
   "cell_type": "markdown",
   "metadata": {},
   "source": [
    "### And now, accessing movie data\n",
    "\n",
    "Documentation: https://developers.themoviedb.org/3"
   ]
  },
  {
   "cell_type": "code",
   "execution_count": null,
   "metadata": {},
   "outputs": [],
   "source": [
    "# Default URL given as an example... let's see what it is!\n",
    "test_url = f\"https://api.themoviedb.org/3/movie/550?api_key={tmdb_key_1}\""
   ]
  },
  {
   "cell_type": "code",
   "execution_count": null,
   "metadata": {},
   "outputs": [],
   "source": [
    "# Let's get the response and explore it\n"
   ]
  },
  {
   "cell_type": "code",
   "execution_count": null,
   "metadata": {},
   "outputs": [],
   "source": [
    "# Find similar movies to the previous id\n"
   ]
  },
  {
   "cell_type": "code",
   "execution_count": null,
   "metadata": {},
   "outputs": [],
   "source": [
    "# How many similar movies did it find?\n"
   ]
  },
  {
   "cell_type": "code",
   "execution_count": null,
   "metadata": {},
   "outputs": [],
   "source": [
    "# but is that the length of these results?\n"
   ]
  },
  {
   "cell_type": "code",
   "execution_count": null,
   "metadata": {
    "scrolled": true
   },
   "outputs": [],
   "source": [
    "# what's in here?\n"
   ]
  },
  {
   "cell_type": "markdown",
   "metadata": {
    "slideshow": {
     "slide_type": "slide"
    }
   },
   "source": [
    "-----\n",
    "\n",
    "## Extra credit - Further Practice\n",
    "\n",
    "There are many ways to access data through APIs! [Sodapy](https://github.com/xmunoz/sodapy) is the Python client for the Socrata Open Data API."
   ]
  },
  {
   "cell_type": "code",
   "execution_count": null,
   "metadata": {},
   "outputs": [],
   "source": [
    "# Install before running \n",
    "# !pip install sodapy"
   ]
  },
  {
   "cell_type": "markdown",
   "metadata": {
    "slideshow": {
     "slide_type": "-"
    }
   },
   "source": [
    "#### Tokenize yourself!\n",
    "\n",
    "https://dev.socrata.com/foundry/data.cityofnewyork.us/fhrw-4uyv\n",
    "\n",
    "Scroll down and click to sign up for an app token! No credit cards required!"
   ]
  },
  {
   "cell_type": "code",
   "execution_count": null,
   "metadata": {},
   "outputs": [],
   "source": [
    "token = '' # paste your token here \n",
    "\n",
    "from sodapy import Socrata\n",
    "\n",
    "# Unauthenticated client only works with public data sets. Note 'None'\n",
    "# in place of application token, and no username or password:\n",
    "client = Socrata(\"data.cityofnewyork.us\", token)\n",
    "\n",
    "# Example authenticated client (needed for non-public datasets):\n",
    "# client = Socrata(data.cityofnewyork.us,\n",
    "#                  MyAppToken,\n",
    "#                  userame=\"user@example.com\",\n",
    "#                  password=\"AFakePassword\")\n",
    "\n",
    "# First 2000 results, returned as JSON from API / converted to Python list of\n",
    "# dictionaries by sodapy.\n",
    "results = client.get(\"fhrw-4uyv\", incident_zip = '11004', limit=1000)"
   ]
  },
  {
   "cell_type": "code",
   "execution_count": null,
   "metadata": {
    "slideshow": {
     "slide_type": "-"
    }
   },
   "outputs": [],
   "source": [
    "type(results)"
   ]
  },
  {
   "cell_type": "code",
   "execution_count": null,
   "metadata": {
    "slideshow": {
     "slide_type": "-"
    }
   },
   "outputs": [],
   "source": [
    "len(results)"
   ]
  },
  {
   "cell_type": "code",
   "execution_count": null,
   "metadata": {
    "slideshow": {
     "slide_type": "-"
    }
   },
   "outputs": [],
   "source": [
    "results[0]"
   ]
  },
  {
   "cell_type": "code",
   "execution_count": null,
   "metadata": {
    "slideshow": {
     "slide_type": "-"
    }
   },
   "outputs": [],
   "source": [
    "df_soda = pd.DataFrame(results)\n",
    "\n",
    "print(len(df_soda))\n",
    "print(df_soda.columns)\n",
    "df_soda.head()"
   ]
  },
  {
   "cell_type": "markdown",
   "metadata": {
    "slideshow": {
     "slide_type": "slide"
    }
   },
   "source": [
    "## Even Further Practice\n",
    "\n",
    "https://github.com/toddmotto/public-apis\n",
    "\n",
    "Find a buddy, find a free api, get a key, and do a GET. Try to transform the response into a dataframe."
   ]
  },
  {
   "cell_type": "code",
   "execution_count": null,
   "metadata": {},
   "outputs": [],
   "source": []
  }
 ],
 "metadata": {
  "kernelspec": {
   "display_name": "Python 3",
   "language": "python",
   "name": "python3"
  },
  "language_info": {
   "codemirror_mode": {
    "name": "ipython",
    "version": 3
   },
   "file_extension": ".py",
   "mimetype": "text/x-python",
   "name": "python",
   "nbconvert_exporter": "python",
   "pygments_lexer": "ipython3",
   "version": "3.6.9"
  }
 },
 "nbformat": 4,
 "nbformat_minor": 2
}

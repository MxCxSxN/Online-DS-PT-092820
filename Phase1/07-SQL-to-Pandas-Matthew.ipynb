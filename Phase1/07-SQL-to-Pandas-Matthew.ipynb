{
 "cells": [
  {
   "cell_type": "markdown",
   "metadata": {
    "slideshow": {
     "slide_type": "slide"
    }
   },
   "source": [
    "![sql](images/sql-logo.jpg)\n",
    "\n",
    "# Databases, SQL, and Connecting them to `pandas`"
   ]
  },
  {
   "cell_type": "markdown",
   "metadata": {
    "slideshow": {
     "slide_type": "slide"
    }
   },
   "source": [
    "Long before we can do any kind of machine learning, we need access to data - most often stored in databases.\n",
    "\n",
    "![hierarchy](images/ai-hierachy.png)\n",
    "\n",
    "[Image Source](https://hackernoon.com/the-ai-hierarchy-of-needs-18f111fcc007)\n",
    "\n",
    "> ^ If you haven't yet read about the AI Hierarchy of Needs, I can't recommend Monica Rogati’s fantastic blog post enough! Click the image source link to give it a read.\n",
    "\n",
    "The task of accessing data - **Extracting, Transforming and Loading** data, often shortened to **ETL** - often falls to Data Engineers, and so today we'll be wearing the hat of a Data Engineer in order to see what it means to access data where it actually is stored."
   ]
  },
  {
   "cell_type": "markdown",
   "metadata": {},
   "source": [
    "## What does it mean to **Engineer Data**?\n",
    "\n",
    "Let's start with a basic scenario: You have *no* current database. How would you set it up?\n",
    "\n",
    "Data-needs considerations:\n",
    "\n",
    "- What you want to store\n",
    "- What \"views\" you anticipate wanting in the future\n",
    "\n",
    "Structure considerations:\n",
    "\n",
    "- Speed of retrieval\n",
    "- How much data you are accessing\n",
    "- How much you are storing"
   ]
  },
  {
   "cell_type": "markdown",
   "metadata": {
    "slideshow": {
     "slide_type": "slide"
    }
   },
   "source": [
    "### What is a Relational Database? \n",
    "\n",
    "> \"Most databases today are relational databases, named such because they deal with tables of data related by a common field.\"\n",
    "> - [MariaDB's Introduction to Relational Databases tutorial](https://mariadb.com/kb/en/introduction-to-relational-databases/)\n",
    "\n",
    "From that description, we know a few things - databases are made up of tables, which contain data that is related between tables.\n",
    "\n",
    "Let's look at an example and unpack:\n",
    "\n",
    "![example database schema](images/example-database-schema.png)\n",
    "\n",
    "[Image Source](http://www.cs.montana.edu/~halla/csci440/n7/n7.html)"
   ]
  },
  {
   "cell_type": "markdown",
   "metadata": {},
   "source": [
    "Lots of symbols we can examine here! These **Entity-Relationship Diagrams** (ERDs) will tell you a lot about how tables relate to each other.\n",
    "\n",
    "First lets look at the symbols along the sides of each line in there - each line is the name of a column, followed by the allowed datatype in all caps. The symbols?\n",
    "\n",
    "- Small Key indicates a primary key\n",
    "- Blue Diamond indicates a field/attribute\n",
    "- Red Diamond indicates a foreign key\n",
    "\n",
    "As for the symbols along the lines - relationship between keys! This type of notation is called Crow's Feet notation.\n",
    "\n",
    "<img alt=\"database schema connectors explained\" src=\"images/crowsfeetsymbols.png\" width=400>\n",
    "\n",
    "[Image Source](https://www.lucidchart.com/pages/ER-diagram-symbols-and-meaning)\n",
    "\n",
    "Of course - this is but one way of visualizing these relationships (there are others)"
   ]
  },
  {
   "cell_type": "markdown",
   "metadata": {},
   "source": [
    "## Enter SQL\n",
    "\n",
    "SQL - **Structured Query Language** - is a standard language for connecting to, changing and retrieving data stored in relational databases.\n",
    "\n",
    "SQL is a language - [but there are dialects.](https://training-nyc.com/learn/sql/the-many-flavors-of-sql-a-guide-to-relational-databases) Some are proprietary, some are open source, and all have their quirks. At their core, however, they're mostly the same and use many of the same keywords. If you're proficient in one flavor of SQL, you can easily transition to one of the others."
   ]
  },
  {
   "cell_type": "markdown",
   "metadata": {
    "slideshow": {
     "slide_type": "slide"
    }
   },
   "source": [
    "### SQLite\n",
    "\n",
    "<img src=\"images/SQLite-Python.jpg\" width=400>\n",
    "\n",
    "One of many flavors of SQL! And the one we'll be using!\n",
    "\n",
    "- C library (fast)\n",
    "- lightweight disk-based database\n",
    "- that doesn’t require a separate server process\n",
    "- nonstandard variant of the SQL query language\n",
    "- applications can use SQLite for internal data storage\n",
    "- use case: prototype an application using SQLite and then port the code to a larger database such as PostgreSQL or Oracle\n",
    "\n",
    "#### Using it in Python:\n",
    "\n",
    "[sqlite3 documentation](https://docs.python.org/2/library/sqlite3.html)"
   ]
  },
  {
   "cell_type": "markdown",
   "metadata": {
    "slideshow": {
     "slide_type": "slide"
    }
   },
   "source": [
    "### Other flavors/database types?\n",
    "\n",
    "To connect to other database types (thus other flavors of SQL) there are many different Python libraries:\n",
    "\n",
    "- Oracle: [cx_Oracle](https://oracle.github.io/python-cx_Oracle/)\n",
    "- MySQL: [MySQL-python](https://github.com/farcepest/MySQLdb1)\n",
    "- PostgreSQL: [Psycopg2](http://initd.org/psycopg/docs/)\n",
    "- Microsoft SQL Server: [pymssql](http://www.pymssql.org/en/stable/)"
   ]
  },
  {
   "cell_type": "markdown",
   "metadata": {
    "slideshow": {
     "slide_type": "slide"
    }
   },
   "source": [
    "## Let's Explore a Database!"
   ]
  },
  {
   "cell_type": "code",
   "execution_count": 1,
   "metadata": {
    "slideshow": {
     "slide_type": "fragment"
    }
   },
   "outputs": [],
   "source": [
    "# of course, need an import\n",
    "import sqlite3"
   ]
  },
  {
   "cell_type": "markdown",
   "metadata": {
    "slideshow": {
     "slide_type": "slide"
    }
   },
   "source": [
    "#### Load a database object with `connect` and `cursor`"
   ]
  },
  {
   "cell_type": "code",
   "execution_count": 2,
   "metadata": {
    "slideshow": {
     "slide_type": "fragment"
    }
   },
   "outputs": [],
   "source": [
    "con = sqlite3.connect('data/flights.db')\n",
    "cursor = con.cursor()"
   ]
  },
  {
   "cell_type": "code",
   "execution_count": 5,
   "metadata": {},
   "outputs": [
    {
     "data": {
      "text/plain": [
       "[(0, '1', 'Private flight', '\\\\N', '-', None, None, None, 'Y'),\n",
       " (1, '2', '135 Airways', '\\\\N', None, 'GNL', 'GENERAL', 'United States', 'N'),\n",
       " (2, '3', '1Time Airline', '\\\\N', '1T', 'RNX', 'NEXTIME', 'South Africa', 'Y'),\n",
       " (3,\n",
       "  '4',\n",
       "  '2 Sqn No 1 Elementary Flying Training School',\n",
       "  '\\\\N',\n",
       "  None,\n",
       "  'WYT',\n",
       "  None,\n",
       "  'United Kingdom',\n",
       "  'N'),\n",
       " (4, '5', '213 Flight Unit', '\\\\N', None, 'TFU', None, 'Russia', 'N')]"
      ]
     },
     "execution_count": 5,
     "metadata": {},
     "output_type": "execute_result"
    }
   ],
   "source": [
    "cursor.execute(\"\"\"\n",
    "SELECT *\n",
    "FROM airlines\n",
    "LIMIT 5;\n",
    "\"\"\").fetchall()"
   ]
  },
  {
   "cell_type": "markdown",
   "metadata": {},
   "source": [
    "Our cursor is what we'll use to execute queries on a database."
   ]
  },
  {
   "cell_type": "markdown",
   "metadata": {
    "slideshow": {
     "slide_type": "slide"
    }
   },
   "source": [
    "#### Using `Pragma`\n",
    "\n",
    "[`Pragma`](https://www.sqlite.org/pragma.html) - note that PRAGMA is a query statement specific to SQLite\n",
    "\n",
    "**output:**\n",
    "\n",
    "`(column id, column name, data type, whether or not the column can be NULL, the default value for the column, and whether the column is a foreign key)`"
   ]
  },
  {
   "cell_type": "code",
   "execution_count": 6,
   "metadata": {
    "slideshow": {
     "slide_type": "slide"
    }
   },
   "outputs": [
    {
     "name": "stdout",
     "output_type": "stream",
     "text": [
      "(0, 'index', 'INTEGER', 0, None, 0)\n",
      "(1, 'id', 'TEXT', 0, None, 0)\n",
      "(2, 'name', 'TEXT', 0, None, 0)\n",
      "(3, 'city', 'TEXT', 0, None, 0)\n",
      "(4, 'country', 'TEXT', 0, None, 0)\n",
      "(5, 'code', 'TEXT', 0, None, 0)\n",
      "(6, 'icao', 'TEXT', 0, None, 0)\n",
      "(7, 'latitude', 'TEXT', 0, None, 0)\n",
      "(8, 'longitude', 'TEXT', 0, None, 0)\n",
      "(9, 'altitude', 'TEXT', 0, None, 0)\n",
      "(10, 'offset', 'TEXT', 0, None, 0)\n",
      "(11, 'dst', 'TEXT', 0, None, 0)\n",
      "(12, 'timezone', 'TEXT', 0, None, 0)\n"
     ]
    }
   ],
   "source": [
    "cursor.execute(\"PRAGMA table_info(airports)\")\n",
    "info = cursor.fetchall()\n",
    "print(*info, sep = \"\\n\")  #cool new way of using python's print"
   ]
  },
  {
   "cell_type": "markdown",
   "metadata": {
    "slideshow": {
     "slide_type": "slide"
    }
   },
   "source": [
    "#### Making fetch happen\n",
    "\n",
    "`.fetchall()` is how you get the query results out of the object.\n",
    "\n",
    "You can also `.fetchone()` or `.fetchmany()`"
   ]
  },
  {
   "cell_type": "markdown",
   "metadata": {
    "slideshow": {
     "slide_type": "slide"
    }
   },
   "source": [
    "**Task:** Get the descriptive data for the other two tables, `airlines` and `routes`"
   ]
  },
  {
   "cell_type": "code",
   "execution_count": 11,
   "metadata": {
    "scrolled": true
   },
   "outputs": [
    {
     "data": {
      "text/plain": [
       "(('cid', None, None, None, None, None, None),\n",
       " ('name', None, None, None, None, None, None),\n",
       " ('type', None, None, None, None, None, None),\n",
       " ('notnull', None, None, None, None, None, None),\n",
       " ('dflt_value', None, None, None, None, None, None),\n",
       " ('pk', None, None, None, None, None, None))"
      ]
     },
     "execution_count": 11,
     "metadata": {},
     "output_type": "execute_result"
    }
   ],
   "source": [
    "# Grab data on the airlines table\n",
    "cursor.execute('PRAGMA table_info(airlines);').fetchall()\n",
    "cursor.description"
   ]
  },
  {
   "cell_type": "code",
   "execution_count": 13,
   "metadata": {},
   "outputs": [
    {
     "data": {
      "text/plain": [
       "[(0, 'index', 'INTEGER', 0, None, 0),\n",
       " (1, 'id', 'TEXT', 0, None, 0),\n",
       " (2, 'name', 'TEXT', 0, None, 0),\n",
       " (3, 'alias', 'TEXT', 0, None, 0),\n",
       " (4, 'iata', 'TEXT', 0, None, 0),\n",
       " (5, 'icao', 'TEXT', 0, None, 0),\n",
       " (6, 'callsign', 'TEXT', 0, None, 0),\n",
       " (7, 'country', 'TEXT', 0, None, 0),\n",
       " (8, 'active', 'TEXT', 0, None, 0)]"
      ]
     },
     "execution_count": 13,
     "metadata": {},
     "output_type": "execute_result"
    }
   ],
   "source": [
    "cursor.execute('PRAGMA table_info(airlines);').fetchall()"
   ]
  },
  {
   "cell_type": "code",
   "execution_count": 12,
   "metadata": {},
   "outputs": [
    {
     "data": {
      "text/plain": [
       "[(0, 'index', 'INTEGER', 0, None, 0),\n",
       " (1, 'airline', 'TEXT', 0, None, 0),\n",
       " (2, 'airline_id', 'TEXT', 0, None, 0),\n",
       " (3, 'source', 'TEXT', 0, None, 0),\n",
       " (4, 'source_id', 'TEXT', 0, None, 0),\n",
       " (5, 'dest', 'TEXT', 0, None, 0),\n",
       " (6, 'dest_id', 'TEXT', 0, None, 0),\n",
       " (7, 'codeshare', 'TEXT', 0, None, 0),\n",
       " (8, 'stops', 'TEXT', 0, None, 0),\n",
       " (9, 'equipment', 'TEXT', 0, None, 0)]"
      ]
     },
     "execution_count": 12,
     "metadata": {},
     "output_type": "execute_result"
    }
   ],
   "source": [
    "# Grab data on the routes table\n",
    "cursor.execute('PRAGMA table_info(routes);').fetchall()"
   ]
  },
  {
   "cell_type": "markdown",
   "metadata": {
    "slideshow": {
     "slide_type": "slide"
    }
   },
   "source": [
    "***\n",
    "## Basic SQL commands "
   ]
  },
  {
   "cell_type": "markdown",
   "metadata": {
    "slideshow": {
     "slide_type": "slide"
    }
   },
   "source": [
    "### The Structure of a SQL Query"
   ]
  },
  {
   "cell_type": "markdown",
   "metadata": {
    "slideshow": {
     "slide_type": "slide"
    }
   },
   "source": [
    "![sql query structure](images/sql_statement.jpg)\n",
    "\n",
    "[Image Source](https://searchsqlserver.techtarget.com/feature/How-to-use-the-SELECT-statement-in-SQL)"
   ]
  },
  {
   "cell_type": "markdown",
   "metadata": {
    "slideshow": {
     "slide_type": "slide"
    }
   },
   "source": [
    "### Constructing SQL queries"
   ]
  },
  {
   "cell_type": "markdown",
   "metadata": {
    "slideshow": {
     "slide_type": "fragment"
    }
   },
   "source": [
    "**`SELECT`**:  The columns you want\n",
    "\n",
    "- options: \n",
    "    - `DISTINCT`\n",
    "    - using `AS` to rename columns, called *aliasing*\n",
    "    - single number aggregates (like count)"
   ]
  },
  {
   "cell_type": "markdown",
   "metadata": {
    "slideshow": {
     "slide_type": "fragment"
    }
   },
   "source": [
    "**`FROM`:** the source tables\n",
    "\n",
    "- options: \n",
    "    - also can alias with `AS`\n",
    "    - where we can join other tables, with `[LEFT|INNER|RIGHT|FULL] JOIN ___ [ON|USING]`"
   ]
  },
  {
   "cell_type": "markdown",
   "metadata": {
    "slideshow": {
     "slide_type": "fragment"
    }
   },
   "source": [
    "**`WHERE`**: your filters\n",
    "\n",
    "- options: \n",
    "    - comparators like `=` & `>=`\n",
    "    - `BETWEEN`, `IN`, `LIKE` (with wildcards `%`)\n",
    "    - booleans like `AND`, `OR`, `NOT`"
   ]
  },
  {
   "cell_type": "markdown",
   "metadata": {
    "slideshow": {
     "slide_type": "fragment"
    }
   },
   "source": [
    "**`ORDER BY`**: sorting\n",
    "\n",
    "- options: \n",
    "    - `ASC` (default) and `DESC`"
   ]
  },
  {
   "cell_type": "markdown",
   "metadata": {
    "slideshow": {
     "slide_type": "fragment"
    }
   },
   "source": [
    "**`LIMIT`**:  # of rows to return (pair with `OFFSET`)"
   ]
  },
  {
   "cell_type": "markdown",
   "metadata": {},
   "source": [
    "There are more! So many more!\n",
    "\n",
    "**NOTE:** SQL doesn't care about spacing, and doesn't care about capslock for statement options. But, it's convention - plus it makes your queries easier to read, for yourself and others."
   ]
  },
  {
   "cell_type": "markdown",
   "metadata": {
    "slideshow": {
     "slide_type": "slide"
    }
   },
   "source": [
    "#### Use `sqlite_master` to find all the tables in the schema\n",
    "\n",
    "Remember, we've defined a `cursor` that can execute queries - time to use it!"
   ]
  },
  {
   "cell_type": "code",
   "execution_count": 16,
   "metadata": {},
   "outputs": [
    {
     "data": {
      "text/plain": [
       "[('airports',), ('airlines',), ('routes',)]"
      ]
     },
     "execution_count": 16,
     "metadata": {},
     "output_type": "execute_result"
    }
   ],
   "source": [
    "cursor.execute(\"\"\"\n",
    "    SELECT name\n",
    "    FROM sqlite_master\n",
    "    WHERE type = 'table';\n",
    "    \"\"\").fetchall()"
   ]
  },
  {
   "cell_type": "markdown",
   "metadata": {
    "slideshow": {
     "slide_type": "slide"
    }
   },
   "source": [
    "**Task**: \n",
    "\n",
    "- Select only **active** airlines in the **United Kingdom** from the `airlines` table\n"
   ]
  },
  {
   "cell_type": "code",
   "execution_count": 17,
   "metadata": {
    "scrolled": true
   },
   "outputs": [
    {
     "data": {
      "text/plain": [
       "[(0, 'index', 'INTEGER', 0, None, 0),\n",
       " (1, 'id', 'TEXT', 0, None, 0),\n",
       " (2, 'name', 'TEXT', 0, None, 0),\n",
       " (3, 'alias', 'TEXT', 0, None, 0),\n",
       " (4, 'iata', 'TEXT', 0, None, 0),\n",
       " (5, 'icao', 'TEXT', 0, None, 0),\n",
       " (6, 'callsign', 'TEXT', 0, None, 0),\n",
       " (7, 'country', 'TEXT', 0, None, 0),\n",
       " (8, 'active', 'TEXT', 0, None, 0)]"
      ]
     },
     "execution_count": 17,
     "metadata": {},
     "output_type": "execute_result"
    }
   ],
   "source": [
    "cursor.execute('PRAGMA table_info(airlines);').fetchall()"
   ]
  },
  {
   "cell_type": "code",
   "execution_count": 24,
   "metadata": {},
   "outputs": [],
   "source": [
    "# can also check the description for details once a query has run\n",
    "res = cursor.execute('''\n",
    "    SELECT *\n",
    "    FROM airlines\n",
    "    WHERE country = 'United Kingdom' AND active = 'Y'\n",
    "    LIMIT 10;''').fetchall()"
   ]
  },
  {
   "cell_type": "code",
   "execution_count": 25,
   "metadata": {},
   "outputs": [
    {
     "data": {
      "text/plain": [
       "[(111,\n",
       "  '112',\n",
       "  'Astraeus',\n",
       "  '\\\\N',\n",
       "  '5W',\n",
       "  'AEU',\n",
       "  'FLYSTAR',\n",
       "  'United Kingdom',\n",
       "  'Y'),\n",
       " (491,\n",
       "  '492',\n",
       "  'Air Southwest',\n",
       "  '\\\\N',\n",
       "  None,\n",
       "  'WOW',\n",
       "  'SWALLOW',\n",
       "  'United Kingdom',\n",
       "  'Y'),\n",
       " (507,\n",
       "  '508',\n",
       "  'Aurigny Air Services',\n",
       "  '\\\\N',\n",
       "  'GR',\n",
       "  'AUR',\n",
       "  'AYLINE',\n",
       "  'United Kingdom',\n",
       "  'Y'),\n",
       " (564,\n",
       "  '565',\n",
       "  'Air Wales',\n",
       "  '\\\\N',\n",
       "  '6G',\n",
       "  'AWW',\n",
       "  'RED DRAGON',\n",
       "  'United Kingdom',\n",
       "  'Y'),\n",
       " (664,\n",
       "  '665',\n",
       "  'AD Aviation',\n",
       "  '\\\\N',\n",
       "  None,\n",
       "  'VUE',\n",
       "  'FLIGHTVUE',\n",
       "  'United Kingdom',\n",
       "  'Y'),\n",
       " (689, '690', 'Air Foyle', '\\\\N', 'GS', 'UPA', 'FOYLE', 'United Kingdom', 'Y'),\n",
       " (1353,\n",
       "  '1355',\n",
       "  'British Airways',\n",
       "  '\\\\N',\n",
       "  'BA',\n",
       "  'BAW',\n",
       "  'SPEEDBIRD',\n",
       "  'United Kingdom',\n",
       "  'Y'),\n",
       " (1409,\n",
       "  '1411',\n",
       "  'British International Helicopters',\n",
       "  '\\\\N',\n",
       "  'BS',\n",
       "  'BIH',\n",
       "  'BRINTEL',\n",
       "  'United Kingdom',\n",
       "  'Y'),\n",
       " (1435,\n",
       "  '1437',\n",
       "  'bmi',\n",
       "  'bmi British Midland',\n",
       "  'BD',\n",
       "  'BMA',\n",
       "  'MIDLAND',\n",
       "  'United Kingdom',\n",
       "  'Y'),\n",
       " (1439, '1441', 'bmibaby', '\\\\N', 'WW', 'BMI', 'BABY', 'United Kingdom', 'Y')]"
      ]
     },
     "execution_count": 25,
     "metadata": {},
     "output_type": "execute_result"
    }
   ],
   "source": [
    "res"
   ]
  },
  {
   "cell_type": "markdown",
   "metadata": {},
   "source": [
    "**Task**: \n",
    "- Select the **unique** list of **countries** with airports"
   ]
  },
  {
   "cell_type": "code",
   "execution_count": 26,
   "metadata": {},
   "outputs": [
    {
     "data": {
      "text/html": [
       "<div>\n",
       "<style scoped>\n",
       "    .dataframe tbody tr th:only-of-type {\n",
       "        vertical-align: middle;\n",
       "    }\n",
       "\n",
       "    .dataframe tbody tr th {\n",
       "        vertical-align: top;\n",
       "    }\n",
       "\n",
       "    .dataframe thead th {\n",
       "        text-align: right;\n",
       "    }\n",
       "</style>\n",
       "<table border=\"1\" class=\"dataframe\">\n",
       "  <thead>\n",
       "    <tr style=\"text-align: right;\">\n",
       "      <th></th>\n",
       "      <th>0</th>\n",
       "      <th>1</th>\n",
       "      <th>2</th>\n",
       "      <th>3</th>\n",
       "      <th>4</th>\n",
       "      <th>5</th>\n",
       "      <th>6</th>\n",
       "      <th>7</th>\n",
       "      <th>8</th>\n",
       "    </tr>\n",
       "  </thead>\n",
       "  <tbody>\n",
       "    <tr>\n",
       "      <th>0</th>\n",
       "      <td>111</td>\n",
       "      <td>112</td>\n",
       "      <td>Astraeus</td>\n",
       "      <td>\\N</td>\n",
       "      <td>5W</td>\n",
       "      <td>AEU</td>\n",
       "      <td>FLYSTAR</td>\n",
       "      <td>United Kingdom</td>\n",
       "      <td>Y</td>\n",
       "    </tr>\n",
       "    <tr>\n",
       "      <th>1</th>\n",
       "      <td>491</td>\n",
       "      <td>492</td>\n",
       "      <td>Air Southwest</td>\n",
       "      <td>\\N</td>\n",
       "      <td>None</td>\n",
       "      <td>WOW</td>\n",
       "      <td>SWALLOW</td>\n",
       "      <td>United Kingdom</td>\n",
       "      <td>Y</td>\n",
       "    </tr>\n",
       "    <tr>\n",
       "      <th>2</th>\n",
       "      <td>507</td>\n",
       "      <td>508</td>\n",
       "      <td>Aurigny Air Services</td>\n",
       "      <td>\\N</td>\n",
       "      <td>GR</td>\n",
       "      <td>AUR</td>\n",
       "      <td>AYLINE</td>\n",
       "      <td>United Kingdom</td>\n",
       "      <td>Y</td>\n",
       "    </tr>\n",
       "    <tr>\n",
       "      <th>3</th>\n",
       "      <td>564</td>\n",
       "      <td>565</td>\n",
       "      <td>Air Wales</td>\n",
       "      <td>\\N</td>\n",
       "      <td>6G</td>\n",
       "      <td>AWW</td>\n",
       "      <td>RED DRAGON</td>\n",
       "      <td>United Kingdom</td>\n",
       "      <td>Y</td>\n",
       "    </tr>\n",
       "    <tr>\n",
       "      <th>4</th>\n",
       "      <td>664</td>\n",
       "      <td>665</td>\n",
       "      <td>AD Aviation</td>\n",
       "      <td>\\N</td>\n",
       "      <td>None</td>\n",
       "      <td>VUE</td>\n",
       "      <td>FLIGHTVUE</td>\n",
       "      <td>United Kingdom</td>\n",
       "      <td>Y</td>\n",
       "    </tr>\n",
       "    <tr>\n",
       "      <th>5</th>\n",
       "      <td>689</td>\n",
       "      <td>690</td>\n",
       "      <td>Air Foyle</td>\n",
       "      <td>\\N</td>\n",
       "      <td>GS</td>\n",
       "      <td>UPA</td>\n",
       "      <td>FOYLE</td>\n",
       "      <td>United Kingdom</td>\n",
       "      <td>Y</td>\n",
       "    </tr>\n",
       "    <tr>\n",
       "      <th>6</th>\n",
       "      <td>1353</td>\n",
       "      <td>1355</td>\n",
       "      <td>British Airways</td>\n",
       "      <td>\\N</td>\n",
       "      <td>BA</td>\n",
       "      <td>BAW</td>\n",
       "      <td>SPEEDBIRD</td>\n",
       "      <td>United Kingdom</td>\n",
       "      <td>Y</td>\n",
       "    </tr>\n",
       "    <tr>\n",
       "      <th>7</th>\n",
       "      <td>1409</td>\n",
       "      <td>1411</td>\n",
       "      <td>British International Helicopters</td>\n",
       "      <td>\\N</td>\n",
       "      <td>BS</td>\n",
       "      <td>BIH</td>\n",
       "      <td>BRINTEL</td>\n",
       "      <td>United Kingdom</td>\n",
       "      <td>Y</td>\n",
       "    </tr>\n",
       "    <tr>\n",
       "      <th>8</th>\n",
       "      <td>1435</td>\n",
       "      <td>1437</td>\n",
       "      <td>bmi</td>\n",
       "      <td>bmi British Midland</td>\n",
       "      <td>BD</td>\n",
       "      <td>BMA</td>\n",
       "      <td>MIDLAND</td>\n",
       "      <td>United Kingdom</td>\n",
       "      <td>Y</td>\n",
       "    </tr>\n",
       "    <tr>\n",
       "      <th>9</th>\n",
       "      <td>1439</td>\n",
       "      <td>1441</td>\n",
       "      <td>bmibaby</td>\n",
       "      <td>\\N</td>\n",
       "      <td>WW</td>\n",
       "      <td>BMI</td>\n",
       "      <td>BABY</td>\n",
       "      <td>United Kingdom</td>\n",
       "      <td>Y</td>\n",
       "    </tr>\n",
       "  </tbody>\n",
       "</table>\n",
       "</div>"
      ],
      "text/plain": [
       "      0     1                                  2                    3     4  \\\n",
       "0   111   112                           Astraeus                   \\N    5W   \n",
       "1   491   492                      Air Southwest                   \\N  None   \n",
       "2   507   508               Aurigny Air Services                   \\N    GR   \n",
       "3   564   565                          Air Wales                   \\N    6G   \n",
       "4   664   665                        AD Aviation                   \\N  None   \n",
       "5   689   690                          Air Foyle                   \\N    GS   \n",
       "6  1353  1355                    British Airways                   \\N    BA   \n",
       "7  1409  1411  British International Helicopters                   \\N    BS   \n",
       "8  1435  1437                                bmi  bmi British Midland    BD   \n",
       "9  1439  1441                            bmibaby                   \\N    WW   \n",
       "\n",
       "     5           6               7  8  \n",
       "0  AEU     FLYSTAR  United Kingdom  Y  \n",
       "1  WOW     SWALLOW  United Kingdom  Y  \n",
       "2  AUR      AYLINE  United Kingdom  Y  \n",
       "3  AWW  RED DRAGON  United Kingdom  Y  \n",
       "4  VUE   FLIGHTVUE  United Kingdom  Y  \n",
       "5  UPA       FOYLE  United Kingdom  Y  \n",
       "6  BAW   SPEEDBIRD  United Kingdom  Y  \n",
       "7  BIH     BRINTEL  United Kingdom  Y  \n",
       "8  BMA     MIDLAND  United Kingdom  Y  \n",
       "9  BMI        BABY  United Kingdom  Y  "
      ]
     },
     "execution_count": 26,
     "metadata": {},
     "output_type": "execute_result"
    }
   ],
   "source": [
    "import pandas as pd\n",
    "pd.DataFrame(res)"
   ]
  },
  {
   "cell_type": "code",
   "execution_count": 27,
   "metadata": {},
   "outputs": [
    {
     "data": {
      "text/plain": [
       "(('index', None, None, None, None, None, None),\n",
       " ('id', None, None, None, None, None, None),\n",
       " ('name', None, None, None, None, None, None),\n",
       " ('alias', None, None, None, None, None, None),\n",
       " ('iata', None, None, None, None, None, None),\n",
       " ('icao', None, None, None, None, None, None),\n",
       " ('callsign', None, None, None, None, None, None),\n",
       " ('country', None, None, None, None, None, None),\n",
       " ('active', None, None, None, None, None, None))"
      ]
     },
     "execution_count": 27,
     "metadata": {},
     "output_type": "execute_result"
    }
   ],
   "source": [
    "cursor.description"
   ]
  },
  {
   "cell_type": "code",
   "execution_count": 28,
   "metadata": {},
   "outputs": [
    {
     "data": {
      "text/plain": [
       "['index',\n",
       " 'id',\n",
       " 'name',\n",
       " 'alias',\n",
       " 'iata',\n",
       " 'icao',\n",
       " 'callsign',\n",
       " 'country',\n",
       " 'active']"
      ]
     },
     "execution_count": 28,
     "metadata": {},
     "output_type": "execute_result"
    }
   ],
   "source": [
    "[desc[0] for desc in cursor.description]"
   ]
  },
  {
   "cell_type": "code",
   "execution_count": 31,
   "metadata": {},
   "outputs": [],
   "source": [
    "res = pd.DataFrame(res, columns=[desc[0] for desc in cursor.description])"
   ]
  },
  {
   "cell_type": "code",
   "execution_count": 32,
   "metadata": {},
   "outputs": [
    {
     "data": {
      "text/plain": [
       "[(0, 'index', 'INTEGER', 0, None, 0),\n",
       " (1, 'id', 'TEXT', 0, None, 0),\n",
       " (2, 'name', 'TEXT', 0, None, 0),\n",
       " (3, 'alias', 'TEXT', 0, None, 0),\n",
       " (4, 'iata', 'TEXT', 0, None, 0),\n",
       " (5, 'icao', 'TEXT', 0, None, 0),\n",
       " (6, 'callsign', 'TEXT', 0, None, 0),\n",
       " (7, 'country', 'TEXT', 0, None, 0),\n",
       " (8, 'active', 'TEXT', 0, None, 0)]"
      ]
     },
     "execution_count": 32,
     "metadata": {},
     "output_type": "execute_result"
    }
   ],
   "source": [
    "cursor.execute('PRAGMA table_info(airlines);').fetchall()\n"
   ]
  },
  {
   "cell_type": "code",
   "execution_count": 33,
   "metadata": {},
   "outputs": [
    {
     "data": {
      "text/plain": [
       "[('Papua New Guinea',),\n",
       " ('Greenland',),\n",
       " ('Iceland',),\n",
       " ('Canada',),\n",
       " ('Algeria',),\n",
       " ('Benin',),\n",
       " ('Burkina Faso',),\n",
       " ('Ghana',),\n",
       " (\"Cote d'Ivoire\",),\n",
       " ('Nigeria',)]"
      ]
     },
     "execution_count": 33,
     "metadata": {},
     "output_type": "execute_result"
    }
   ],
   "source": [
    "cursor.execute('''\n",
    "    SELECT DISTINCT country\n",
    "    FROM airports\n",
    "    LIMIT 10\n",
    "    ''').fetchall()"
   ]
  },
  {
   "cell_type": "code",
   "execution_count": 35,
   "metadata": {},
   "outputs": [
    {
     "data": {
      "text/plain": [
       "[(240,)]"
      ]
     },
     "execution_count": 35,
     "metadata": {},
     "output_type": "execute_result"
    }
   ],
   "source": [
    "# what if I just wanted a count of how many?\n",
    "cursor.execute('''\n",
    "    SELECT COUNT (DISTINCT country)\n",
    "    FROM airports\n",
    "    LIMIT 10\n",
    "    ''').fetchall()"
   ]
  },
  {
   "cell_type": "code",
   "execution_count": null,
   "metadata": {},
   "outputs": [],
   "source": []
  },
  {
   "cell_type": "markdown",
   "metadata": {
    "slideshow": {
     "slide_type": "slide"
    }
   },
   "source": [
    "### SQL Joins"
   ]
  },
  {
   "cell_type": "markdown",
   "metadata": {
    "slideshow": {
     "slide_type": "fragment"
    }
   },
   "source": [
    "SQL joins can be used to both **add** data to a table and **remove** data from a table. "
   ]
  },
  {
   "cell_type": "markdown",
   "metadata": {
    "slideshow": {
     "slide_type": "fragment"
    }
   },
   "source": [
    "<img src=\"images/venn.png\" width=550>"
   ]
  },
  {
   "cell_type": "markdown",
   "metadata": {
    "slideshow": {
     "slide_type": "slide"
    }
   },
   "source": [
    "**Task** \n",
    "\n",
    "- Write a query that will join the **latitude** and **longitude** data from the `airports` table to the information on the `routes` table"
   ]
  },
  {
   "cell_type": "code",
   "execution_count": null,
   "metadata": {
    "slideshow": {
     "slide_type": "skip"
    }
   },
   "outputs": [],
   "source": [
    "# what does the routes table look like?\n"
   ]
  },
  {
   "cell_type": "code",
   "execution_count": null,
   "metadata": {},
   "outputs": [],
   "source": [
    "# what does the airports table look like?\n"
   ]
  },
  {
   "cell_type": "code",
   "execution_count": 36,
   "metadata": {},
   "outputs": [],
   "source": [
    "# what join(s) do we need?\n",
    "res = cursor.execute('''\n",
    "    SELECT r.*, \n",
    "        source.latitude AS source_lat, \n",
    "        source.longitude AS source_long, \n",
    "        dest.latitude AS dest_lat, \n",
    "        dest.longitude AS dest_long\n",
    "    FROM routes AS r\n",
    "    JOIN airports AS dest ON r.dest_id = dest.id\n",
    "    JOIN airports AS source ON source_id = source.id\n",
    "    LIMIT 10;\n",
    "''').fetchall()"
   ]
  },
  {
   "cell_type": "code",
   "execution_count": 38,
   "metadata": {},
   "outputs": [
    {
     "data": {
      "text/html": [
       "<div>\n",
       "<style scoped>\n",
       "    .dataframe tbody tr th:only-of-type {\n",
       "        vertical-align: middle;\n",
       "    }\n",
       "\n",
       "    .dataframe tbody tr th {\n",
       "        vertical-align: top;\n",
       "    }\n",
       "\n",
       "    .dataframe thead th {\n",
       "        text-align: right;\n",
       "    }\n",
       "</style>\n",
       "<table border=\"1\" class=\"dataframe\">\n",
       "  <thead>\n",
       "    <tr style=\"text-align: right;\">\n",
       "      <th></th>\n",
       "      <th>index</th>\n",
       "      <th>airline</th>\n",
       "      <th>airline_id</th>\n",
       "      <th>source</th>\n",
       "      <th>source_id</th>\n",
       "      <th>dest</th>\n",
       "      <th>dest_id</th>\n",
       "      <th>codeshare</th>\n",
       "      <th>stops</th>\n",
       "      <th>equipment</th>\n",
       "      <th>source_lat</th>\n",
       "      <th>source_long</th>\n",
       "      <th>dest_lat</th>\n",
       "      <th>dest_long</th>\n",
       "    </tr>\n",
       "  </thead>\n",
       "  <tbody>\n",
       "    <tr>\n",
       "      <th>0</th>\n",
       "      <td>0</td>\n",
       "      <td>2B</td>\n",
       "      <td>410</td>\n",
       "      <td>AER</td>\n",
       "      <td>2965</td>\n",
       "      <td>KZN</td>\n",
       "      <td>2990</td>\n",
       "      <td>None</td>\n",
       "      <td>0</td>\n",
       "      <td>CR2</td>\n",
       "      <td>43.449928</td>\n",
       "      <td>39.956589</td>\n",
       "      <td>55.606186</td>\n",
       "      <td>49.278728</td>\n",
       "    </tr>\n",
       "    <tr>\n",
       "      <th>1</th>\n",
       "      <td>1</td>\n",
       "      <td>2B</td>\n",
       "      <td>410</td>\n",
       "      <td>ASF</td>\n",
       "      <td>2966</td>\n",
       "      <td>KZN</td>\n",
       "      <td>2990</td>\n",
       "      <td>None</td>\n",
       "      <td>0</td>\n",
       "      <td>CR2</td>\n",
       "      <td>46.283333</td>\n",
       "      <td>48.006278</td>\n",
       "      <td>55.606186</td>\n",
       "      <td>49.278728</td>\n",
       "    </tr>\n",
       "    <tr>\n",
       "      <th>2</th>\n",
       "      <td>2</td>\n",
       "      <td>2B</td>\n",
       "      <td>410</td>\n",
       "      <td>ASF</td>\n",
       "      <td>2966</td>\n",
       "      <td>MRV</td>\n",
       "      <td>2962</td>\n",
       "      <td>None</td>\n",
       "      <td>0</td>\n",
       "      <td>CR2</td>\n",
       "      <td>46.283333</td>\n",
       "      <td>48.006278</td>\n",
       "      <td>44.225072</td>\n",
       "      <td>43.081889</td>\n",
       "    </tr>\n",
       "    <tr>\n",
       "      <th>3</th>\n",
       "      <td>3</td>\n",
       "      <td>2B</td>\n",
       "      <td>410</td>\n",
       "      <td>CEK</td>\n",
       "      <td>2968</td>\n",
       "      <td>KZN</td>\n",
       "      <td>2990</td>\n",
       "      <td>None</td>\n",
       "      <td>0</td>\n",
       "      <td>CR2</td>\n",
       "      <td>55.305836</td>\n",
       "      <td>61.503333</td>\n",
       "      <td>55.606186</td>\n",
       "      <td>49.278728</td>\n",
       "    </tr>\n",
       "    <tr>\n",
       "      <th>4</th>\n",
       "      <td>4</td>\n",
       "      <td>2B</td>\n",
       "      <td>410</td>\n",
       "      <td>CEK</td>\n",
       "      <td>2968</td>\n",
       "      <td>OVB</td>\n",
       "      <td>4078</td>\n",
       "      <td>None</td>\n",
       "      <td>0</td>\n",
       "      <td>CR2</td>\n",
       "      <td>55.305836</td>\n",
       "      <td>61.503333</td>\n",
       "      <td>55.012622</td>\n",
       "      <td>82.650656</td>\n",
       "    </tr>\n",
       "    <tr>\n",
       "      <th>5</th>\n",
       "      <td>5</td>\n",
       "      <td>2B</td>\n",
       "      <td>410</td>\n",
       "      <td>DME</td>\n",
       "      <td>4029</td>\n",
       "      <td>KZN</td>\n",
       "      <td>2990</td>\n",
       "      <td>None</td>\n",
       "      <td>0</td>\n",
       "      <td>CR2</td>\n",
       "      <td>55.408611</td>\n",
       "      <td>37.906111</td>\n",
       "      <td>55.606186</td>\n",
       "      <td>49.278728</td>\n",
       "    </tr>\n",
       "    <tr>\n",
       "      <th>6</th>\n",
       "      <td>6</td>\n",
       "      <td>2B</td>\n",
       "      <td>410</td>\n",
       "      <td>DME</td>\n",
       "      <td>4029</td>\n",
       "      <td>NBC</td>\n",
       "      <td>6969</td>\n",
       "      <td>None</td>\n",
       "      <td>0</td>\n",
       "      <td>CR2</td>\n",
       "      <td>55.408611</td>\n",
       "      <td>37.906111</td>\n",
       "      <td>55.34</td>\n",
       "      <td>52.06</td>\n",
       "    </tr>\n",
       "    <tr>\n",
       "      <th>7</th>\n",
       "      <td>8</td>\n",
       "      <td>2B</td>\n",
       "      <td>410</td>\n",
       "      <td>DME</td>\n",
       "      <td>4029</td>\n",
       "      <td>UUA</td>\n",
       "      <td>6160</td>\n",
       "      <td>None</td>\n",
       "      <td>0</td>\n",
       "      <td>CR2</td>\n",
       "      <td>55.408611</td>\n",
       "      <td>37.906111</td>\n",
       "      <td>54.64</td>\n",
       "      <td>52.8017</td>\n",
       "    </tr>\n",
       "    <tr>\n",
       "      <th>8</th>\n",
       "      <td>9</td>\n",
       "      <td>2B</td>\n",
       "      <td>410</td>\n",
       "      <td>EGO</td>\n",
       "      <td>6156</td>\n",
       "      <td>KGD</td>\n",
       "      <td>2952</td>\n",
       "      <td>None</td>\n",
       "      <td>0</td>\n",
       "      <td>CR2</td>\n",
       "      <td>50.6438</td>\n",
       "      <td>36.5901</td>\n",
       "      <td>54.89005</td>\n",
       "      <td>20.592633</td>\n",
       "    </tr>\n",
       "    <tr>\n",
       "      <th>9</th>\n",
       "      <td>10</td>\n",
       "      <td>2B</td>\n",
       "      <td>410</td>\n",
       "      <td>EGO</td>\n",
       "      <td>6156</td>\n",
       "      <td>KZN</td>\n",
       "      <td>2990</td>\n",
       "      <td>None</td>\n",
       "      <td>0</td>\n",
       "      <td>CR2</td>\n",
       "      <td>50.6438</td>\n",
       "      <td>36.5901</td>\n",
       "      <td>55.606186</td>\n",
       "      <td>49.278728</td>\n",
       "    </tr>\n",
       "  </tbody>\n",
       "</table>\n",
       "</div>"
      ],
      "text/plain": [
       "   index airline airline_id source source_id dest dest_id codeshare stops  \\\n",
       "0      0      2B        410    AER      2965  KZN    2990      None     0   \n",
       "1      1      2B        410    ASF      2966  KZN    2990      None     0   \n",
       "2      2      2B        410    ASF      2966  MRV    2962      None     0   \n",
       "3      3      2B        410    CEK      2968  KZN    2990      None     0   \n",
       "4      4      2B        410    CEK      2968  OVB    4078      None     0   \n",
       "5      5      2B        410    DME      4029  KZN    2990      None     0   \n",
       "6      6      2B        410    DME      4029  NBC    6969      None     0   \n",
       "7      8      2B        410    DME      4029  UUA    6160      None     0   \n",
       "8      9      2B        410    EGO      6156  KGD    2952      None     0   \n",
       "9     10      2B        410    EGO      6156  KZN    2990      None     0   \n",
       "\n",
       "  equipment source_lat source_long   dest_lat  dest_long  \n",
       "0       CR2  43.449928   39.956589  55.606186  49.278728  \n",
       "1       CR2  46.283333   48.006278  55.606186  49.278728  \n",
       "2       CR2  46.283333   48.006278  44.225072  43.081889  \n",
       "3       CR2  55.305836   61.503333  55.606186  49.278728  \n",
       "4       CR2  55.305836   61.503333  55.012622  82.650656  \n",
       "5       CR2  55.408611   37.906111  55.606186  49.278728  \n",
       "6       CR2  55.408611   37.906111      55.34      52.06  \n",
       "7       CR2  55.408611   37.906111      54.64    52.8017  \n",
       "8       CR2    50.6438     36.5901   54.89005  20.592633  \n",
       "9       CR2    50.6438     36.5901  55.606186  49.278728  "
      ]
     },
     "execution_count": 38,
     "metadata": {},
     "output_type": "execute_result"
    }
   ],
   "source": [
    "pd.DataFrame(res, columns = [desc[0] for desc in cursor.description])"
   ]
  },
  {
   "cell_type": "markdown",
   "metadata": {
    "slideshow": {
     "slide_type": "slide"
    }
   },
   "source": [
    "### Grouping statements\n",
    "\n",
    "Combine `SELECT` and `GROUP BY` when you want aggregates by values"
   ]
  },
  {
   "cell_type": "markdown",
   "metadata": {
    "slideshow": {
     "slide_type": "fragment"
    }
   },
   "source": [
    "`SELECT` `min(x)` ... `max()`, `sum()`, etc.\n",
    "\n",
    "`GROUP BY x`"
   ]
  },
  {
   "cell_type": "markdown",
   "metadata": {
    "slideshow": {
     "slide_type": "slide"
    }
   },
   "source": [
    "**Task**\n",
    "\n",
    "- Which countries have the most active airlines?"
   ]
  },
  {
   "cell_type": "code",
   "execution_count": 44,
   "metadata": {
    "scrolled": true,
    "slideshow": {
     "slide_type": "skip"
    }
   },
   "outputs": [
    {
     "data": {
      "text/plain": [
       "[('United States', 141),\n",
       " ('Russia', 72),\n",
       " ('United Kingdom', 40),\n",
       " ('Germany', 37),\n",
       " ('Canada', 34),\n",
       " ('Australia', 26),\n",
       " ('China', 25),\n",
       " ('Spain', 24),\n",
       " ('Brazil', 23),\n",
       " ('France', 22)]"
      ]
     },
     "execution_count": 44,
     "metadata": {},
     "output_type": "execute_result"
    }
   ],
   "source": [
    "cursor.execute('''\n",
    "    SELECT country, COUNT(*) AS active_airlines_count\n",
    "    FROM airlines\n",
    "    WHERE active = 'Y'\n",
    "    GROUP BY country\n",
    "    ORDER BY active_airlines_count DESC\n",
    "    LIMIT 10;\n",
    "    ''').fetchall()"
   ]
  },
  {
   "cell_type": "markdown",
   "metadata": {},
   "source": [
    "**Task**\n",
    "\n",
    "- What about inactive airlines?"
   ]
  },
  {
   "cell_type": "code",
   "execution_count": null,
   "metadata": {
    "slideshow": {
     "slide_type": "skip"
    }
   },
   "outputs": [],
   "source": []
  },
  {
   "cell_type": "markdown",
   "metadata": {},
   "source": [
    "**Task**\n",
    "\n",
    "- How many airports are there in each timezone?"
   ]
  },
  {
   "cell_type": "code",
   "execution_count": null,
   "metadata": {
    "slideshow": {
     "slide_type": "skip"
    }
   },
   "outputs": [],
   "source": []
  },
  {
   "cell_type": "code",
   "execution_count": null,
   "metadata": {},
   "outputs": [],
   "source": [
    "# It's always a good idea to close our connections when we're done\n",
    "cursor.close()\n",
    "con.close()"
   ]
  },
  {
   "cell_type": "markdown",
   "metadata": {
    "slideshow": {
     "slide_type": "slide"
    }
   },
   "source": [
    "## Moving from SQLite3 to pandas"
   ]
  },
  {
   "cell_type": "code",
   "execution_count": null,
   "metadata": {},
   "outputs": [],
   "source": [
    "# need to import pandas!\n"
   ]
  },
  {
   "cell_type": "code",
   "execution_count": 1,
   "metadata": {
    "slideshow": {
     "slide_type": "fragment"
    }
   },
   "outputs": [],
   "source": [
    "pd_con = None\n",
    "df = None"
   ]
  },
  {
   "cell_type": "code",
   "execution_count": null,
   "metadata": {},
   "outputs": [],
   "source": [
    "df.head()"
   ]
  },
  {
   "cell_type": "markdown",
   "metadata": {
    "slideshow": {
     "slide_type": "slide"
    }
   },
   "source": [
    "**Task**: \n",
    "Convert one of the earlier queries in the lesson to a pandas dataframe"
   ]
  },
  {
   "cell_type": "code",
   "execution_count": null,
   "metadata": {
    "scrolled": false
   },
   "outputs": [],
   "source": []
  },
  {
   "cell_type": "markdown",
   "metadata": {},
   "source": [
    "Another way to move results into a pandas dataframe:"
   ]
  },
  {
   "cell_type": "code",
   "execution_count": null,
   "metadata": {},
   "outputs": [],
   "source": []
  },
  {
   "cell_type": "code",
   "execution_count": null,
   "metadata": {},
   "outputs": [],
   "source": []
  },
  {
   "cell_type": "code",
   "execution_count": 45,
   "metadata": {},
   "outputs": [],
   "source": [
    "# don't forget to close connections again\n",
    "cursor.close()\n",
    "con.close()"
   ]
  },
  {
   "cell_type": "markdown",
   "metadata": {},
   "source": [
    "## Additional Resources\n",
    "\n",
    "Reading Resources:\n",
    "\n",
    "- [MariaDB's list of relational database terms, which also helps explain table relationships](https://mariadb.com/kb/en/relational-databases-basic-terms/)\n",
    "- [History of SQL Article](https://www.businessnewsdaily.com/5804-what-is-sql.html)\n",
    "- [The original SQL paper from the 1970s](https://www.seas.upenn.edu/~zives/03f/cis550/codd.pdf)\n",
    "\n",
    "Free SQL Courses: \n",
    "\n",
    "- [Kaggle's Courses](https://www.kaggle.com/learn/overview) on Intro to SQL and Advanced SQL - will include connecting to a Google Biq Query database\n",
    "- [Khan Academy's SQL Course](https://www.khanacademy.org/computing/computer-programming/sql), which includes using more complicated query commands like CASE\n",
    "- [Coursera Course on Modern Big Data Analysis with SQL](https://www.coursera.org/specializations/cloudera-big-data-analysis-sql) which was just recommended to me via the data science subreddit - covers SQL queries with specific considerations for very very large datasets stored in clusters in the cloud (specifically covers Hive and Impala, I'll likely be taking this course for fun over the next few weeks if anyone wants to join me!)"
   ]
  }
 ],
 "metadata": {
  "kernelspec": {
   "display_name": "Python 3",
   "language": "python",
   "name": "python3"
  },
  "language_info": {
   "codemirror_mode": {
    "name": "ipython",
    "version": 3
   },
   "file_extension": ".py",
   "mimetype": "text/x-python",
   "name": "python",
   "nbconvert_exporter": "python",
   "pygments_lexer": "ipython3",
   "version": "3.6.9"
  }
 },
 "nbformat": 4,
 "nbformat_minor": 4
}
